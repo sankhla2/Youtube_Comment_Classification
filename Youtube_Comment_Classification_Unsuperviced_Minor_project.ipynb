{
  "nbformat": 4,
  "nbformat_minor": 0,
  "metadata": {
    "colab": {
      "provenance": [],
      "include_colab_link": true
    },
    "kernelspec": {
      "name": "python3",
      "display_name": "Python 3"
    },
    "language_info": {
      "name": "python"
    },
    "gpuClass": "standard",
    "accelerator": "GPU"
  },
  "cells": [
    {
      "cell_type": "markdown",
      "metadata": {
        "id": "view-in-github",
        "colab_type": "text"
      },
      "source": [
        "<a href=\"https://colab.research.google.com/github/sankhla2/Youtube_Comment_Classification_Unsuperviced_Minor_project/blob/main/Youtube_Comment_Classification_Unsuperviced_Minor_project.ipynb\" target=\"_parent\"><img src=\"https://colab.research.google.com/assets/colab-badge.svg\" alt=\"Open In Colab\"/></a>"
      ]
    },
    {
      "cell_type": "code",
      "execution_count": null,
      "metadata": {
        "id": "el-UVwusWVlq",
        "colab": {
          "base_uri": "https://localhost:8080/"
        },
        "outputId": "b47e9166-703e-4d8e-d11f-74e2ce0a49e9"
      },
      "outputs": [
        {
          "output_type": "stream",
          "name": "stderr",
          "text": [
            "[nltk_data] Downloading package wordnet to /root/nltk_data...\n",
            "[nltk_data] Downloading package stopwords to /root/nltk_data...\n",
            "[nltk_data]   Unzipping corpora/stopwords.zip.\n"
          ]
        }
      ],
      "source": [
        "import pandas as pd\n",
        "import numpy as np\n",
        "from sklearn.feature_extraction.text import CountVectorizer\n",
        "from sklearn.cluster import AgglomerativeClustering,SpectralClustering,KMeans\n",
        "from scipy.cluster.vq import vq, kmeans, whiten\n",
        "from sklearn.mixture import GaussianMixture\n",
        "import matplotlib.pyplot as plt\n",
        "from sklearn.cluster import KMeans\n",
        "from sklearn.metrics import calinski_harabasz_score,silhouette_score,davies_bouldin_score\n",
        "from sklearn.decomposition import PCA\n",
        "import plotly.express as px\n",
        "import re\n",
        "import nltk\n",
        "nltk.download('wordnet')\n",
        "nltk.download('stopwords')\n",
        "\n",
        "from nltk.corpus import stopwords \n",
        "from nltk.stem.porter import PorterStemmer\n",
        "from nltk.stem import WordNetLemmatizer"
      ]
    },
    {
      "cell_type": "code",
      "source": [
        "from google.colab import drive\n",
        "drive.mount('/content/drive')"
      ],
      "metadata": {
        "colab": {
          "base_uri": "https://localhost:8080/"
        },
        "id": "4pdWpsWCtQcI",
        "outputId": "7590b4e2-d76a-4a97-c0f3-3478347dfbc7"
      },
      "execution_count": null,
      "outputs": [
        {
          "output_type": "stream",
          "name": "stdout",
          "text": [
            "Mounted at /content/drive\n"
          ]
        }
      ]
    },
    {
      "cell_type": "code",
      "source": [
        "## taking the dataset\n",
        "dataset = pd.read_csv(\"/content/drive/MyDrive/PRML LABs/PRML Minor Project/YT_Videos_Comments.csv\")"
      ],
      "metadata": {
        "id": "CQDOXEQGZjNo",
        "colab": {
          "base_uri": "https://localhost:8080/"
        },
        "outputId": "e26fe4cd-d0ca-4cb8-e560-04f7764f49d1"
      },
      "execution_count": null,
      "outputs": [
        {
          "output_type": "stream",
          "name": "stderr",
          "text": [
            "<ipython-input-4-6ea2764610de>:2: DtypeWarning: Columns (2,3,4,5,6,7,8) have mixed types. Specify dtype option on import or set low_memory=False.\n",
            "  dataset = pd.read_csv(\"/content/drive/MyDrive/PRML LABs/PRML Minor Project/YT_Videos_Comments.csv\")\n"
          ]
        }
      ]
    },
    {
      "cell_type": "code",
      "source": [
        "dataset"
      ],
      "metadata": {
        "id": "RfxTxW6_aBww",
        "colab": {
          "base_uri": "https://localhost:8080/",
          "height": 1000
        },
        "outputId": "e3375b80-6ac3-412b-ba3a-747c41451636"
      },
      "execution_count": null,
      "outputs": [
        {
          "output_type": "execute_result",
          "data": {
            "text/plain": [
              "                User                                 Video Title  \\\n",
              "0         Cleo Abram        Robots made of spiders (yes, really)   \n",
              "1         Cleo Abram        Robots made of spiders (yes, really)   \n",
              "2         Cleo Abram        Robots made of spiders (yes, really)   \n",
              "3         Cleo Abram        Robots made of spiders (yes, really)   \n",
              "4         Cleo Abram        Robots made of spiders (yes, really)   \n",
              "...              ...                                         ...   \n",
              "861957  Physics Girl  5 AMAZING stars we’ve discovered in space!   \n",
              "861958  Physics Girl  5 AMAZING stars we’ve discovered in space!   \n",
              "861959  Physics Girl  5 AMAZING stars we’ve discovered in space!   \n",
              "861960  Physics Girl  5 AMAZING stars we’ve discovered in space!   \n",
              "861961  Physics Girl  5 AMAZING stars we’ve discovered in space!   \n",
              "\n",
              "                                        Video Description     Video ID  \\\n",
              "0       I'M SORRY OK. But this is fascinating. \\n\\nSci...  YXd4z3gWyVE   \n",
              "1       I'M SORRY OK. But this is fascinating. \\n\\nSci...  YXd4z3gWyVE   \n",
              "2       I'M SORRY OK. But this is fascinating. \\n\\nSci...  YXd4z3gWyVE   \n",
              "3       I'M SORRY OK. But this is fascinating. \\n\\nSci...  YXd4z3gWyVE   \n",
              "4       I'M SORRY OK. But this is fascinating. \\n\\nSci...  YXd4z3gWyVE   \n",
              "...                                                   ...          ...   \n",
              "861957  This episode is brought to you by Squarespace:...  xyXpQxz7BOs   \n",
              "861958  This episode is brought to you by Squarespace:...  xyXpQxz7BOs   \n",
              "861959  This episode is brought to you by Squarespace:...  xyXpQxz7BOs   \n",
              "861960  This episode is brought to you by Squarespace:...  xyXpQxz7BOs   \n",
              "861961  This episode is brought to you by Squarespace:...  xyXpQxz7BOs   \n",
              "\n",
              "                                      Comment (Displayed)  \\\n",
              "0       zombie spider!! bomb the damn lab before it&#3...   \n",
              "1       This is way less cool than it seems, spiders a...   \n",
              "2       Spiders see this and this is why they made the...   \n",
              "3                                      you looks pretty 😍   \n",
              "4       I can hear the hairs standing up on my wife’s ...   \n",
              "...                                                   ...   \n",
              "861957  hey girl,make more vdos and make it lengthy .....   \n",
              "861958                                              Third   \n",
              "861959                                              third   \n",
              "861960                                             Second   \n",
              "861961                                              first   \n",
              "\n",
              "                                         Comment (Actual)  \\\n",
              "0       zombie spider!! bomb the damn lab before it's ...   \n",
              "1       This is way less cool than it seems, spiders a...   \n",
              "2       Spiders see this and this is why they made the...   \n",
              "3                                      you looks pretty 😍   \n",
              "4       I can hear the hairs standing up on my wife’s ...   \n",
              "...                                                   ...   \n",
              "861957  hey girl,make more vdos and make it lengthy .....   \n",
              "861958                                              Third   \n",
              "861959                                              third   \n",
              "861960                                             Second   \n",
              "861961                                              first   \n",
              "\n",
              "             Comment Author Comment Author Channel ID          Comment Time  \n",
              "0              Bagus Hutomo  UC-F6GFyxAqGhN3_MEJLksxg  2023-03-11T07:39:33Z  \n",
              "1                   CMZ neu  UCZKnVEtNze-fFxCvsRnaIuA  2023-03-11T05:26:10Z  \n",
              "2             Kiana Marrie   UCutp6oeKAxsO6fXp1vyzvIQ  2023-03-11T04:02:27Z  \n",
              "3                      Noob  UC9J99riIPd6ja-XDFSwrY-Q  2023-03-11T02:50:50Z  \n",
              "4            chancellor9000  UC8WEPXkCSh87h6kBcFT-o1g  2023-03-11T02:46:02Z  \n",
              "...                     ...                       ...                   ...  \n",
              "861957       Omkar Bhambure  UCgY0dubqhFHVD6wWq37UCtg  2016-01-12T21:32:52Z  \n",
              "861958         Izzo Mapping  UCF0vKXNgNwO2iutasiiLoNQ  2016-01-12T21:30:37Z  \n",
              "861959           Indecisive  UChNeyv6tBcgrjfXJiy3xRFg  2016-01-12T21:30:34Z  \n",
              "861960               Nathan  UCkMeQzamGWna00H_sMQddvQ  2016-01-12T21:30:02Z  \n",
              "861961  The Physicist Cuber  UCnpO0ObncSaFW2fKSAp-OrA  2016-01-12T21:29:47Z  \n",
              "\n",
              "[861962 rows x 9 columns]"
            ],
            "text/html": [
              "\n",
              "  <div id=\"df-b243d6ae-80c7-49aa-a485-e8de5eaf3984\">\n",
              "    <div class=\"colab-df-container\">\n",
              "      <div>\n",
              "<style scoped>\n",
              "    .dataframe tbody tr th:only-of-type {\n",
              "        vertical-align: middle;\n",
              "    }\n",
              "\n",
              "    .dataframe tbody tr th {\n",
              "        vertical-align: top;\n",
              "    }\n",
              "\n",
              "    .dataframe thead th {\n",
              "        text-align: right;\n",
              "    }\n",
              "</style>\n",
              "<table border=\"1\" class=\"dataframe\">\n",
              "  <thead>\n",
              "    <tr style=\"text-align: right;\">\n",
              "      <th></th>\n",
              "      <th>User</th>\n",
              "      <th>Video Title</th>\n",
              "      <th>Video Description</th>\n",
              "      <th>Video ID</th>\n",
              "      <th>Comment (Displayed)</th>\n",
              "      <th>Comment (Actual)</th>\n",
              "      <th>Comment Author</th>\n",
              "      <th>Comment Author Channel ID</th>\n",
              "      <th>Comment Time</th>\n",
              "    </tr>\n",
              "  </thead>\n",
              "  <tbody>\n",
              "    <tr>\n",
              "      <th>0</th>\n",
              "      <td>Cleo Abram</td>\n",
              "      <td>Robots made of spiders (yes, really)</td>\n",
              "      <td>I'M SORRY OK. But this is fascinating. \\n\\nSci...</td>\n",
              "      <td>YXd4z3gWyVE</td>\n",
              "      <td>zombie spider!! bomb the damn lab before it&amp;#3...</td>\n",
              "      <td>zombie spider!! bomb the damn lab before it's ...</td>\n",
              "      <td>Bagus Hutomo</td>\n",
              "      <td>UC-F6GFyxAqGhN3_MEJLksxg</td>\n",
              "      <td>2023-03-11T07:39:33Z</td>\n",
              "    </tr>\n",
              "    <tr>\n",
              "      <th>1</th>\n",
              "      <td>Cleo Abram</td>\n",
              "      <td>Robots made of spiders (yes, really)</td>\n",
              "      <td>I'M SORRY OK. But this is fascinating. \\n\\nSci...</td>\n",
              "      <td>YXd4z3gWyVE</td>\n",
              "      <td>This is way less cool than it seems, spiders a...</td>\n",
              "      <td>This is way less cool than it seems, spiders a...</td>\n",
              "      <td>CMZ neu</td>\n",
              "      <td>UCZKnVEtNze-fFxCvsRnaIuA</td>\n",
              "      <td>2023-03-11T05:26:10Z</td>\n",
              "    </tr>\n",
              "    <tr>\n",
              "      <th>2</th>\n",
              "      <td>Cleo Abram</td>\n",
              "      <td>Robots made of spiders (yes, really)</td>\n",
              "      <td>I'M SORRY OK. But this is fascinating. \\n\\nSci...</td>\n",
              "      <td>YXd4z3gWyVE</td>\n",
              "      <td>Spiders see this and this is why they made the...</td>\n",
              "      <td>Spiders see this and this is why they made the...</td>\n",
              "      <td>Kiana Marrie</td>\n",
              "      <td>UCutp6oeKAxsO6fXp1vyzvIQ</td>\n",
              "      <td>2023-03-11T04:02:27Z</td>\n",
              "    </tr>\n",
              "    <tr>\n",
              "      <th>3</th>\n",
              "      <td>Cleo Abram</td>\n",
              "      <td>Robots made of spiders (yes, really)</td>\n",
              "      <td>I'M SORRY OK. But this is fascinating. \\n\\nSci...</td>\n",
              "      <td>YXd4z3gWyVE</td>\n",
              "      <td>you looks pretty 😍</td>\n",
              "      <td>you looks pretty 😍</td>\n",
              "      <td>Noob</td>\n",
              "      <td>UC9J99riIPd6ja-XDFSwrY-Q</td>\n",
              "      <td>2023-03-11T02:50:50Z</td>\n",
              "    </tr>\n",
              "    <tr>\n",
              "      <th>4</th>\n",
              "      <td>Cleo Abram</td>\n",
              "      <td>Robots made of spiders (yes, really)</td>\n",
              "      <td>I'M SORRY OK. But this is fascinating. \\n\\nSci...</td>\n",
              "      <td>YXd4z3gWyVE</td>\n",
              "      <td>I can hear the hairs standing up on my wife’s ...</td>\n",
              "      <td>I can hear the hairs standing up on my wife’s ...</td>\n",
              "      <td>chancellor9000</td>\n",
              "      <td>UC8WEPXkCSh87h6kBcFT-o1g</td>\n",
              "      <td>2023-03-11T02:46:02Z</td>\n",
              "    </tr>\n",
              "    <tr>\n",
              "      <th>...</th>\n",
              "      <td>...</td>\n",
              "      <td>...</td>\n",
              "      <td>...</td>\n",
              "      <td>...</td>\n",
              "      <td>...</td>\n",
              "      <td>...</td>\n",
              "      <td>...</td>\n",
              "      <td>...</td>\n",
              "      <td>...</td>\n",
              "    </tr>\n",
              "    <tr>\n",
              "      <th>861957</th>\n",
              "      <td>Physics Girl</td>\n",
              "      <td>5 AMAZING stars we’ve discovered in space!</td>\n",
              "      <td>This episode is brought to you by Squarespace:...</td>\n",
              "      <td>xyXpQxz7BOs</td>\n",
              "      <td>hey girl,make more vdos and make it lengthy .....</td>\n",
              "      <td>hey girl,make more vdos and make it lengthy .....</td>\n",
              "      <td>Omkar Bhambure</td>\n",
              "      <td>UCgY0dubqhFHVD6wWq37UCtg</td>\n",
              "      <td>2016-01-12T21:32:52Z</td>\n",
              "    </tr>\n",
              "    <tr>\n",
              "      <th>861958</th>\n",
              "      <td>Physics Girl</td>\n",
              "      <td>5 AMAZING stars we’ve discovered in space!</td>\n",
              "      <td>This episode is brought to you by Squarespace:...</td>\n",
              "      <td>xyXpQxz7BOs</td>\n",
              "      <td>Third</td>\n",
              "      <td>Third</td>\n",
              "      <td>Izzo Mapping</td>\n",
              "      <td>UCF0vKXNgNwO2iutasiiLoNQ</td>\n",
              "      <td>2016-01-12T21:30:37Z</td>\n",
              "    </tr>\n",
              "    <tr>\n",
              "      <th>861959</th>\n",
              "      <td>Physics Girl</td>\n",
              "      <td>5 AMAZING stars we’ve discovered in space!</td>\n",
              "      <td>This episode is brought to you by Squarespace:...</td>\n",
              "      <td>xyXpQxz7BOs</td>\n",
              "      <td>third</td>\n",
              "      <td>third</td>\n",
              "      <td>Indecisive</td>\n",
              "      <td>UChNeyv6tBcgrjfXJiy3xRFg</td>\n",
              "      <td>2016-01-12T21:30:34Z</td>\n",
              "    </tr>\n",
              "    <tr>\n",
              "      <th>861960</th>\n",
              "      <td>Physics Girl</td>\n",
              "      <td>5 AMAZING stars we’ve discovered in space!</td>\n",
              "      <td>This episode is brought to you by Squarespace:...</td>\n",
              "      <td>xyXpQxz7BOs</td>\n",
              "      <td>Second</td>\n",
              "      <td>Second</td>\n",
              "      <td>Nathan</td>\n",
              "      <td>UCkMeQzamGWna00H_sMQddvQ</td>\n",
              "      <td>2016-01-12T21:30:02Z</td>\n",
              "    </tr>\n",
              "    <tr>\n",
              "      <th>861961</th>\n",
              "      <td>Physics Girl</td>\n",
              "      <td>5 AMAZING stars we’ve discovered in space!</td>\n",
              "      <td>This episode is brought to you by Squarespace:...</td>\n",
              "      <td>xyXpQxz7BOs</td>\n",
              "      <td>first</td>\n",
              "      <td>first</td>\n",
              "      <td>The Physicist Cuber</td>\n",
              "      <td>UCnpO0ObncSaFW2fKSAp-OrA</td>\n",
              "      <td>2016-01-12T21:29:47Z</td>\n",
              "    </tr>\n",
              "  </tbody>\n",
              "</table>\n",
              "<p>861962 rows × 9 columns</p>\n",
              "</div>\n",
              "      <button class=\"colab-df-convert\" onclick=\"convertToInteractive('df-b243d6ae-80c7-49aa-a485-e8de5eaf3984')\"\n",
              "              title=\"Convert this dataframe to an interactive table.\"\n",
              "              style=\"display:none;\">\n",
              "        \n",
              "  <svg xmlns=\"http://www.w3.org/2000/svg\" height=\"24px\"viewBox=\"0 0 24 24\"\n",
              "       width=\"24px\">\n",
              "    <path d=\"M0 0h24v24H0V0z\" fill=\"none\"/>\n",
              "    <path d=\"M18.56 5.44l.94 2.06.94-2.06 2.06-.94-2.06-.94-.94-2.06-.94 2.06-2.06.94zm-11 1L8.5 8.5l.94-2.06 2.06-.94-2.06-.94L8.5 2.5l-.94 2.06-2.06.94zm10 10l.94 2.06.94-2.06 2.06-.94-2.06-.94-.94-2.06-.94 2.06-2.06.94z\"/><path d=\"M17.41 7.96l-1.37-1.37c-.4-.4-.92-.59-1.43-.59-.52 0-1.04.2-1.43.59L10.3 9.45l-7.72 7.72c-.78.78-.78 2.05 0 2.83L4 21.41c.39.39.9.59 1.41.59.51 0 1.02-.2 1.41-.59l7.78-7.78 2.81-2.81c.8-.78.8-2.07 0-2.86zM5.41 20L4 18.59l7.72-7.72 1.47 1.35L5.41 20z\"/>\n",
              "  </svg>\n",
              "      </button>\n",
              "      \n",
              "  <style>\n",
              "    .colab-df-container {\n",
              "      display:flex;\n",
              "      flex-wrap:wrap;\n",
              "      gap: 12px;\n",
              "    }\n",
              "\n",
              "    .colab-df-convert {\n",
              "      background-color: #E8F0FE;\n",
              "      border: none;\n",
              "      border-radius: 50%;\n",
              "      cursor: pointer;\n",
              "      display: none;\n",
              "      fill: #1967D2;\n",
              "      height: 32px;\n",
              "      padding: 0 0 0 0;\n",
              "      width: 32px;\n",
              "    }\n",
              "\n",
              "    .colab-df-convert:hover {\n",
              "      background-color: #E2EBFA;\n",
              "      box-shadow: 0px 1px 2px rgba(60, 64, 67, 0.3), 0px 1px 3px 1px rgba(60, 64, 67, 0.15);\n",
              "      fill: #174EA6;\n",
              "    }\n",
              "\n",
              "    [theme=dark] .colab-df-convert {\n",
              "      background-color: #3B4455;\n",
              "      fill: #D2E3FC;\n",
              "    }\n",
              "\n",
              "    [theme=dark] .colab-df-convert:hover {\n",
              "      background-color: #434B5C;\n",
              "      box-shadow: 0px 1px 3px 1px rgba(0, 0, 0, 0.15);\n",
              "      filter: drop-shadow(0px 1px 2px rgba(0, 0, 0, 0.3));\n",
              "      fill: #FFFFFF;\n",
              "    }\n",
              "  </style>\n",
              "\n",
              "      <script>\n",
              "        const buttonEl =\n",
              "          document.querySelector('#df-b243d6ae-80c7-49aa-a485-e8de5eaf3984 button.colab-df-convert');\n",
              "        buttonEl.style.display =\n",
              "          google.colab.kernel.accessAllowed ? 'block' : 'none';\n",
              "\n",
              "        async function convertToInteractive(key) {\n",
              "          const element = document.querySelector('#df-b243d6ae-80c7-49aa-a485-e8de5eaf3984');\n",
              "          const dataTable =\n",
              "            await google.colab.kernel.invokeFunction('convertToInteractive',\n",
              "                                                     [key], {});\n",
              "          if (!dataTable) return;\n",
              "\n",
              "          const docLinkHtml = 'Like what you see? Visit the ' +\n",
              "            '<a target=\"_blank\" href=https://colab.research.google.com/notebooks/data_table.ipynb>data table notebook</a>'\n",
              "            + ' to learn more about interactive tables.';\n",
              "          element.innerHTML = '';\n",
              "          dataTable['output_type'] = 'display_data';\n",
              "          await google.colab.output.renderOutput(dataTable, element);\n",
              "          const docLink = document.createElement('div');\n",
              "          docLink.innerHTML = docLinkHtml;\n",
              "          element.appendChild(docLink);\n",
              "        }\n",
              "      </script>\n",
              "    </div>\n",
              "  </div>\n",
              "  "
            ]
          },
          "metadata": {},
          "execution_count": 5
        }
      ]
    },
    {
      "cell_type": "code",
      "source": [
        "# separating the comments\n",
        "X = dataset[[\"Comment (Displayed)\",\"Comment (Actual)\"]]"
      ],
      "metadata": {
        "id": "Ib4t6_E1c5g7"
      },
      "execution_count": null,
      "outputs": []
    },
    {
      "cell_type": "code",
      "source": [
        "X"
      ],
      "metadata": {
        "id": "ZtqBJOBLdDDt",
        "colab": {
          "base_uri": "https://localhost:8080/",
          "height": 424
        },
        "outputId": "5b1eda6e-9042-4cba-813e-35781b4c6079"
      },
      "execution_count": null,
      "outputs": [
        {
          "output_type": "execute_result",
          "data": {
            "text/plain": [
              "                                      Comment (Displayed)  \\\n",
              "0       zombie spider!! bomb the damn lab before it&#3...   \n",
              "1       This is way less cool than it seems, spiders a...   \n",
              "2       Spiders see this and this is why they made the...   \n",
              "3                                      you looks pretty 😍   \n",
              "4       I can hear the hairs standing up on my wife’s ...   \n",
              "...                                                   ...   \n",
              "861957  hey girl,make more vdos and make it lengthy .....   \n",
              "861958                                              Third   \n",
              "861959                                              third   \n",
              "861960                                             Second   \n",
              "861961                                              first   \n",
              "\n",
              "                                         Comment (Actual)  \n",
              "0       zombie spider!! bomb the damn lab before it's ...  \n",
              "1       This is way less cool than it seems, spiders a...  \n",
              "2       Spiders see this and this is why they made the...  \n",
              "3                                      you looks pretty 😍  \n",
              "4       I can hear the hairs standing up on my wife’s ...  \n",
              "...                                                   ...  \n",
              "861957  hey girl,make more vdos and make it lengthy .....  \n",
              "861958                                              Third  \n",
              "861959                                              third  \n",
              "861960                                             Second  \n",
              "861961                                              first  \n",
              "\n",
              "[861962 rows x 2 columns]"
            ],
            "text/html": [
              "\n",
              "  <div id=\"df-4d58adeb-14bb-4c9d-9f69-21e5e81fbc83\">\n",
              "    <div class=\"colab-df-container\">\n",
              "      <div>\n",
              "<style scoped>\n",
              "    .dataframe tbody tr th:only-of-type {\n",
              "        vertical-align: middle;\n",
              "    }\n",
              "\n",
              "    .dataframe tbody tr th {\n",
              "        vertical-align: top;\n",
              "    }\n",
              "\n",
              "    .dataframe thead th {\n",
              "        text-align: right;\n",
              "    }\n",
              "</style>\n",
              "<table border=\"1\" class=\"dataframe\">\n",
              "  <thead>\n",
              "    <tr style=\"text-align: right;\">\n",
              "      <th></th>\n",
              "      <th>Comment (Displayed)</th>\n",
              "      <th>Comment (Actual)</th>\n",
              "    </tr>\n",
              "  </thead>\n",
              "  <tbody>\n",
              "    <tr>\n",
              "      <th>0</th>\n",
              "      <td>zombie spider!! bomb the damn lab before it&amp;#3...</td>\n",
              "      <td>zombie spider!! bomb the damn lab before it's ...</td>\n",
              "    </tr>\n",
              "    <tr>\n",
              "      <th>1</th>\n",
              "      <td>This is way less cool than it seems, spiders a...</td>\n",
              "      <td>This is way less cool than it seems, spiders a...</td>\n",
              "    </tr>\n",
              "    <tr>\n",
              "      <th>2</th>\n",
              "      <td>Spiders see this and this is why they made the...</td>\n",
              "      <td>Spiders see this and this is why they made the...</td>\n",
              "    </tr>\n",
              "    <tr>\n",
              "      <th>3</th>\n",
              "      <td>you looks pretty 😍</td>\n",
              "      <td>you looks pretty 😍</td>\n",
              "    </tr>\n",
              "    <tr>\n",
              "      <th>4</th>\n",
              "      <td>I can hear the hairs standing up on my wife’s ...</td>\n",
              "      <td>I can hear the hairs standing up on my wife’s ...</td>\n",
              "    </tr>\n",
              "    <tr>\n",
              "      <th>...</th>\n",
              "      <td>...</td>\n",
              "      <td>...</td>\n",
              "    </tr>\n",
              "    <tr>\n",
              "      <th>861957</th>\n",
              "      <td>hey girl,make more vdos and make it lengthy .....</td>\n",
              "      <td>hey girl,make more vdos and make it lengthy .....</td>\n",
              "    </tr>\n",
              "    <tr>\n",
              "      <th>861958</th>\n",
              "      <td>Third</td>\n",
              "      <td>Third</td>\n",
              "    </tr>\n",
              "    <tr>\n",
              "      <th>861959</th>\n",
              "      <td>third</td>\n",
              "      <td>third</td>\n",
              "    </tr>\n",
              "    <tr>\n",
              "      <th>861960</th>\n",
              "      <td>Second</td>\n",
              "      <td>Second</td>\n",
              "    </tr>\n",
              "    <tr>\n",
              "      <th>861961</th>\n",
              "      <td>first</td>\n",
              "      <td>first</td>\n",
              "    </tr>\n",
              "  </tbody>\n",
              "</table>\n",
              "<p>861962 rows × 2 columns</p>\n",
              "</div>\n",
              "      <button class=\"colab-df-convert\" onclick=\"convertToInteractive('df-4d58adeb-14bb-4c9d-9f69-21e5e81fbc83')\"\n",
              "              title=\"Convert this dataframe to an interactive table.\"\n",
              "              style=\"display:none;\">\n",
              "        \n",
              "  <svg xmlns=\"http://www.w3.org/2000/svg\" height=\"24px\"viewBox=\"0 0 24 24\"\n",
              "       width=\"24px\">\n",
              "    <path d=\"M0 0h24v24H0V0z\" fill=\"none\"/>\n",
              "    <path d=\"M18.56 5.44l.94 2.06.94-2.06 2.06-.94-2.06-.94-.94-2.06-.94 2.06-2.06.94zm-11 1L8.5 8.5l.94-2.06 2.06-.94-2.06-.94L8.5 2.5l-.94 2.06-2.06.94zm10 10l.94 2.06.94-2.06 2.06-.94-2.06-.94-.94-2.06-.94 2.06-2.06.94z\"/><path d=\"M17.41 7.96l-1.37-1.37c-.4-.4-.92-.59-1.43-.59-.52 0-1.04.2-1.43.59L10.3 9.45l-7.72 7.72c-.78.78-.78 2.05 0 2.83L4 21.41c.39.39.9.59 1.41.59.51 0 1.02-.2 1.41-.59l7.78-7.78 2.81-2.81c.8-.78.8-2.07 0-2.86zM5.41 20L4 18.59l7.72-7.72 1.47 1.35L5.41 20z\"/>\n",
              "  </svg>\n",
              "      </button>\n",
              "      \n",
              "  <style>\n",
              "    .colab-df-container {\n",
              "      display:flex;\n",
              "      flex-wrap:wrap;\n",
              "      gap: 12px;\n",
              "    }\n",
              "\n",
              "    .colab-df-convert {\n",
              "      background-color: #E8F0FE;\n",
              "      border: none;\n",
              "      border-radius: 50%;\n",
              "      cursor: pointer;\n",
              "      display: none;\n",
              "      fill: #1967D2;\n",
              "      height: 32px;\n",
              "      padding: 0 0 0 0;\n",
              "      width: 32px;\n",
              "    }\n",
              "\n",
              "    .colab-df-convert:hover {\n",
              "      background-color: #E2EBFA;\n",
              "      box-shadow: 0px 1px 2px rgba(60, 64, 67, 0.3), 0px 1px 3px 1px rgba(60, 64, 67, 0.15);\n",
              "      fill: #174EA6;\n",
              "    }\n",
              "\n",
              "    [theme=dark] .colab-df-convert {\n",
              "      background-color: #3B4455;\n",
              "      fill: #D2E3FC;\n",
              "    }\n",
              "\n",
              "    [theme=dark] .colab-df-convert:hover {\n",
              "      background-color: #434B5C;\n",
              "      box-shadow: 0px 1px 3px 1px rgba(0, 0, 0, 0.15);\n",
              "      filter: drop-shadow(0px 1px 2px rgba(0, 0, 0, 0.3));\n",
              "      fill: #FFFFFF;\n",
              "    }\n",
              "  </style>\n",
              "\n",
              "      <script>\n",
              "        const buttonEl =\n",
              "          document.querySelector('#df-4d58adeb-14bb-4c9d-9f69-21e5e81fbc83 button.colab-df-convert');\n",
              "        buttonEl.style.display =\n",
              "          google.colab.kernel.accessAllowed ? 'block' : 'none';\n",
              "\n",
              "        async function convertToInteractive(key) {\n",
              "          const element = document.querySelector('#df-4d58adeb-14bb-4c9d-9f69-21e5e81fbc83');\n",
              "          const dataTable =\n",
              "            await google.colab.kernel.invokeFunction('convertToInteractive',\n",
              "                                                     [key], {});\n",
              "          if (!dataTable) return;\n",
              "\n",
              "          const docLinkHtml = 'Like what you see? Visit the ' +\n",
              "            '<a target=\"_blank\" href=https://colab.research.google.com/notebooks/data_table.ipynb>data table notebook</a>'\n",
              "            + ' to learn more about interactive tables.';\n",
              "          element.innerHTML = '';\n",
              "          dataTable['output_type'] = 'display_data';\n",
              "          await google.colab.output.renderOutput(dataTable, element);\n",
              "          const docLink = document.createElement('div');\n",
              "          docLink.innerHTML = docLinkHtml;\n",
              "          element.appendChild(docLink);\n",
              "        }\n",
              "      </script>\n",
              "    </div>\n",
              "  </div>\n",
              "  "
            ]
          },
          "metadata": {},
          "execution_count": 7
        }
      ]
    },
    {
      "cell_type": "code",
      "source": [
        "np.sum(pd.isnull(X))"
      ],
      "metadata": {
        "id": "scQndzr6dFjH",
        "colab": {
          "base_uri": "https://localhost:8080/"
        },
        "outputId": "26fcf1dc-483f-4c7e-f8c4-9628e80725ca"
      },
      "execution_count": null,
      "outputs": [
        {
          "output_type": "execute_result",
          "data": {
            "text/plain": [
              "Comment (Displayed)    467375\n",
              "Comment (Actual)       482881\n",
              "dtype: int64"
            ]
          },
          "metadata": {},
          "execution_count": 8
        }
      ]
    },
    {
      "cell_type": "code",
      "source": [
        "#Removing the NAN\n",
        "X = X.dropna()"
      ],
      "metadata": {
        "id": "ykNCKT3ldkqB"
      },
      "execution_count": null,
      "outputs": []
    },
    {
      "cell_type": "code",
      "source": [
        "np.sum(pd.isnull(X))"
      ],
      "metadata": {
        "id": "o0DW2Z_4ii-s",
        "colab": {
          "base_uri": "https://localhost:8080/"
        },
        "outputId": "0c66e1a7-9f83-4209-943b-4d0bc8706c34"
      },
      "execution_count": null,
      "outputs": [
        {
          "output_type": "execute_result",
          "data": {
            "text/plain": [
              "Comment (Displayed)    0\n",
              "Comment (Actual)       0\n",
              "dtype: int64"
            ]
          },
          "metadata": {},
          "execution_count": 10
        }
      ]
    },
    {
      "cell_type": "code",
      "source": [
        "#storing for later use\n",
        "X.to_csv(\"/content/drive/MyDrive/YTCshort.csv\",index = False)"
      ],
      "metadata": {
        "id": "HfKDW5sSiwae"
      },
      "execution_count": null,
      "outputs": []
    },
    {
      "cell_type": "code",
      "source": [
        "#loading the comment\n",
        "X = pd.read_csv(\"/content/drive/MyDrive/YTCshort.csv\")"
      ],
      "metadata": {
        "id": "Hdnqyj8tjQE0"
      },
      "execution_count": null,
      "outputs": []
    },
    {
      "cell_type": "code",
      "source": [
        "#taking the sample\n",
        "X_disp = X[\"Comment (Displayed)\"]\n",
        "X_disp2 = X_disp.sample(10000,random_state=42)"
      ],
      "metadata": {
        "id": "pN4LKhJMwnsx"
      },
      "execution_count": null,
      "outputs": []
    },
    {
      "cell_type": "code",
      "source": [
        "# Stopping and lemmatizing the comments\n",
        "corpus = []\n",
        "for i in range(0, 10000):\n",
        "  review = re.sub('[^a-zA-Z]', ' ', X_disp2.iloc[i])\n",
        "  review = review.lower()\n",
        "  review = review.split()\n",
        "  wnl = WordNetLemmatizer()\n",
        "  all_stopwords = stopwords.words('english')\n",
        "  all_stopwords.remove('not')\n",
        "  review = [wnl.lemmatize(word) for word in review if not word in set(all_stopwords)]\n",
        "  review = ' '.join(review)\n",
        "  corpus.append(review)\n",
        "X_disp3 = np.array(corpus)"
      ],
      "metadata": {
        "id": "DKl3hr-cjOgv"
      },
      "execution_count": null,
      "outputs": []
    },
    {
      "cell_type": "code",
      "source": [
        "X_disp3"
      ],
      "metadata": {
        "id": "GDr-h6RhkGg2",
        "colab": {
          "base_uri": "https://localhost:8080/"
        },
        "outputId": "f27986ca-a69c-44f8-bec2-cb83f6042390"
      },
      "execution_count": null,
      "outputs": [
        {
          "output_type": "execute_result",
          "data": {
            "text/plain": [
              "array(['wow new challenge not long first', 'nigeria pdp apc want',\n",
              "       'clue came across feed super interesting ive heard clue knew caused not know knowing half battle',\n",
              "       ...,\n",
              "       'href http www youtube com watch v gc pn eire amp flipping page forum second quot yay passed quot',\n",
              "       'hey great idea let electric car dont need grid charge car home car power home power outage internet wireless cell phone',\n",
              "       'would imagine would opportunity maybe track microorganism evolved time mean given deep go somewhat correlate age said microorganism wonder reverse family tree sort done perhaps see oldest microorganism relate current everyday one least similar number offshoot may deal various challenge year'],\n",
              "      dtype='<U4229')"
            ]
          },
          "metadata": {},
          "execution_count": 15
        }
      ]
    },
    {
      "cell_type": "code",
      "source": [
        "test_X = pd.read_excel(\"/content/drive/MyDrive/PRML LABs/PRML Minor Project/processed_batch (1).xlsx\")"
      ],
      "metadata": {
        "id": "DMkCjFF-5Oo0"
      },
      "execution_count": null,
      "outputs": []
    },
    {
      "cell_type": "code",
      "source": [
        "test_X = test_X[[\"Comment (Displayed)\",\"Classification\"]]\n",
        "test_Y = test_X[\"Classification\"]\n",
        "test_X = test_X[\"Comment (Displayed)\"]"
      ],
      "metadata": {
        "id": "dfYMdLva5c1y"
      },
      "execution_count": null,
      "outputs": []
    },
    {
      "cell_type": "code",
      "source": [
        "# test_Y.replace([\"spam\",\"not spam\"],[1,0],inplace = True)\n",
        "# test_Y"
      ],
      "metadata": {
        "id": "bsrviem0vs_6"
      },
      "execution_count": null,
      "outputs": []
    },
    {
      "cell_type": "code",
      "source": [
        "len(test_X)"
      ],
      "metadata": {
        "id": "zqpl50WN57f9",
        "colab": {
          "base_uri": "https://localhost:8080/"
        },
        "outputId": "884ef165-ada8-425e-9850-0c355ed03cee"
      },
      "execution_count": null,
      "outputs": [
        {
          "output_type": "execute_result",
          "data": {
            "text/plain": [
              "2948"
            ]
          },
          "metadata": {},
          "execution_count": 19
        }
      ]
    },
    {
      "cell_type": "code",
      "source": [
        "# stopping and lemmatizing the test samples\n",
        "corpus = []\n",
        "for i in range(0,992):\n",
        "  review = re.sub('[^a-zA-Z]', ' ', test_X.iloc[i])\n",
        "  review = review.lower()\n",
        "  review = review.split()\n",
        "  wnl = WordNetLemmatizer()\n",
        "  all_stopwords = stopwords.words('english')\n",
        "  all_stopwords.remove('not')\n",
        "  review = [wnl.lemmatize(word) for word in review if not word in set(all_stopwords)]\n",
        "  review = ' '.join(review)\n",
        "  corpus.append(review)\n",
        "test_X = np.array(corpus)"
      ],
      "metadata": {
        "id": "nHZYNCV_5sh1"
      },
      "execution_count": null,
      "outputs": []
    },
    {
      "cell_type": "code",
      "source": [
        "test_X"
      ],
      "metadata": {
        "id": "jadtO5rfWIFg"
      },
      "execution_count": null,
      "outputs": []
    },
    {
      "cell_type": "code",
      "source": [
        "# converting into feature vector\n",
        "vectorizer = CountVectorizer()\n",
        "vectorizer = vectorizer.fit(X_disp3)\n",
        "X_disp4= vectorizer.transform(X_disp3)\n",
        "test_X = vectorizer.transform(test_X)\n",
        "features = vectorizer.get_feature_names_out()\n",
        "X_disp4 = pd.DataFrame(X_disp4.toarray(),columns = features)\n",
        "test_X = pd.DataFrame(test_X.toarray(),columns = features)\n"
      ],
      "metadata": {
        "id": "5Zkp85MLlANk"
      },
      "execution_count": null,
      "outputs": []
    },
    {
      "cell_type": "code",
      "source": [
        "X_disp4 = X_disp4.drop(X_disp4.iloc[((np.sum(X_disp4.T)).values == 0)].index)"
      ],
      "metadata": {
        "id": "zej01QBaohsL"
      },
      "execution_count": null,
      "outputs": []
    },
    {
      "cell_type": "code",
      "source": [
        "test_X = test_X.drop(test_X.iloc[((np.sum(test_X.T)).values == 0)].index)\n",
        "test_Y = test_Y.iloc[test_X.index]"
      ],
      "metadata": {
        "id": "hEqMugTR6iWh"
      },
      "execution_count": null,
      "outputs": []
    },
    {
      "cell_type": "code",
      "source": [
        "X_disp4.shape"
      ],
      "metadata": {
        "colab": {
          "base_uri": "https://localhost:8080/"
        },
        "id": "JQ5RapjQp2Ba",
        "outputId": "f4b7915c-4a07-4c72-8320-8cf3b0d9e3d1"
      },
      "execution_count": null,
      "outputs": [
        {
          "output_type": "execute_result",
          "data": {
            "text/plain": [
              "(9885, 14583)"
            ]
          },
          "metadata": {},
          "execution_count": 25
        }
      ]
    },
    {
      "cell_type": "code",
      "source": [
        "# appling the Agglomeration Clustering with difference metrics"
      ],
      "metadata": {
        "id": "_sRqOx6TggZh"
      },
      "execution_count": null,
      "outputs": []
    },
    {
      "cell_type": "code",
      "source": [
        "agg_clus = AgglomerativeClustering(n_clusters=2,linkage = 'single',metric='euclidean').fit(X_disp4)\n",
        "agg_clus2 = AgglomerativeClustering(n_clusters=2,linkage = 'single',affinity='manhattan').fit(X_disp4)\n",
        "agg_clus3 = AgglomerativeClustering(n_clusters=2,linkage = 'single',metric='cosine').fit(X_disp4)\n",
        "agg_clus4 = AgglomerativeClustering(n_clusters=2,linkage = 'single',affinity = 'correlation').fit(X_disp4)\n",
        "agg_clus5 = AgglomerativeClustering(n_clusters=2,linkage = 'single',affinity = 'chebyshev').fit(X_disp4)\n",
        "\n"
      ],
      "metadata": {
        "id": "2rODHjy2ldMx",
        "colab": {
          "base_uri": "https://localhost:8080/"
        },
        "outputId": "5e89887b-ddf2-4df6-e2d5-1dd5e9d52471"
      },
      "execution_count": null,
      "outputs": [
        {
          "output_type": "stream",
          "name": "stderr",
          "text": [
            "/usr/local/lib/python3.9/dist-packages/sklearn/cluster/_agglomerative.py:983: FutureWarning: Attribute `affinity` was deprecated in version 1.2 and will be removed in 1.4. Use `metric` instead\n",
            "  warnings.warn(\n",
            "/usr/local/lib/python3.9/dist-packages/sklearn/cluster/_agglomerative.py:983: FutureWarning: Attribute `affinity` was deprecated in version 1.2 and will be removed in 1.4. Use `metric` instead\n",
            "  warnings.warn(\n",
            "/usr/local/lib/python3.9/dist-packages/sklearn/cluster/_agglomerative.py:983: FutureWarning: Attribute `affinity` was deprecated in version 1.2 and will be removed in 1.4. Use `metric` instead\n",
            "  warnings.warn(\n"
          ]
        }
      ]
    },
    {
      "cell_type": "code",
      "source": [
        "Y_1 = agg_clus.labels_\n",
        "Y_2 = agg_clus2.labels_\n",
        "Y_3 = agg_clus3.labels_\n",
        "Y_4 = agg_clus4.labels_\n",
        "Y_5 = agg_clus5.labels_\n",
        "l = [Y_1,Y_2,Y_3,Y_4,Y_5]\n",
        "for i in l:\n",
        "  print(np.unique(i,return_counts=True))\n",
        "  "
      ],
      "metadata": {
        "id": "ZBWGpB7sp7Jv",
        "colab": {
          "base_uri": "https://localhost:8080/"
        },
        "outputId": "51ea1016-00a2-44a4-9951-4e83ef50a9b9"
      },
      "execution_count": null,
      "outputs": [
        {
          "output_type": "stream",
          "name": "stdout",
          "text": [
            "(array([0, 1]), array([9884,    1]))\n",
            "(array([0, 1]), array([9884,    1]))\n",
            "(array([0, 1]), array([9884,    1]))\n",
            "(array([0, 1]), array([9884,    1]))\n",
            "(array([0, 1]), array([9884,    1]))\n"
          ]
        }
      ]
    },
    {
      "cell_type": "code",
      "source": [
        "#evaluating them"
      ],
      "metadata": {
        "id": "naR-9wIkgnZc"
      },
      "execution_count": null,
      "outputs": []
    },
    {
      "cell_type": "code",
      "source": [
        "count = 0\n",
        "for i in l:\n",
        "  count+=1\n",
        "  print(f'for cluster : {count}')\n",
        "  print(f\"calinski_harabasz_score : {calinski_harabasz_score(X_disp4,i)}\")\n",
        "  print(f\"silhouette_score : {silhouette_score(X_disp4,i)}\")\n",
        "  print(f\"davies_bouldin_score : {davies_bouldin_score(X_disp4,i)}\")\n"
      ],
      "metadata": {
        "id": "PE_KO-65x4VG",
        "colab": {
          "base_uri": "https://localhost:8080/"
        },
        "outputId": "8c3a6526-e7cd-4772-a1d7-82e416ee929d"
      },
      "execution_count": null,
      "outputs": [
        {
          "output_type": "stream",
          "name": "stdout",
          "text": [
            "for cluster : 1\n",
            "calinski_harabasz_score : 301.16037036777936\n",
            "silhouette_score : 0.9303769966170192\n",
            "davies_bouldin_score : 0.046259230498949644\n",
            "for cluster : 2\n",
            "calinski_harabasz_score : 187.661133440361\n",
            "silhouette_score : 0.9122325643292153\n",
            "davies_bouldin_score : 0.058296837115856835\n",
            "for cluster : 3\n",
            "calinski_harabasz_score : 0.06664780114105538\n",
            "silhouette_score : -0.3487381308232402\n",
            "davies_bouldin_score : 3.069906571493308\n",
            "for cluster : 4\n",
            "calinski_harabasz_score : 0.1673160825523939\n",
            "silhouette_score : -0.2777871826203713\n",
            "davies_bouldin_score : 1.9375060836447837\n",
            "for cluster : 5\n",
            "calinski_harabasz_score : 301.16037036777936\n",
            "silhouette_score : 0.9303769966170192\n",
            "davies_bouldin_score : 0.046259230498949644\n"
          ]
        }
      ]
    },
    {
      "cell_type": "code",
      "source": [
        "# appling PCA"
      ],
      "metadata": {
        "id": "CQ2Zs0Aggq5t"
      },
      "execution_count": null,
      "outputs": []
    },
    {
      "cell_type": "code",
      "source": [
        "pca = PCA(n_components=2000).fit(X_disp4)\n",
        "X_disp4_p = pca.transform(X_disp4)\n",
        "test_X_p = pca.transform(test_X)"
      ],
      "metadata": {
        "id": "_M9ps_d-uOHb"
      },
      "execution_count": null,
      "outputs": []
    },
    {
      "cell_type": "code",
      "source": [],
      "metadata": {
        "id": "QJTSfUsgufvy"
      },
      "execution_count": null,
      "outputs": []
    },
    {
      "cell_type": "code",
      "source": [
        "# appling the above process"
      ],
      "metadata": {
        "id": "f9ePl5TpumBY"
      },
      "execution_count": null,
      "outputs": []
    },
    {
      "cell_type": "code",
      "source": [
        "agg_clusp = AgglomerativeClustering(n_clusters=2,linkage = 'single',metric='euclidean').fit(X_disp4_p)\n",
        "agg_clusp2 = AgglomerativeClustering(n_clusters=2,linkage = 'single',affinity='manhattan').fit(X_disp4_p)\n",
        "agg_clusp3 = AgglomerativeClustering(n_clusters=2,linkage = 'single',affinity='cosine').fit(X_disp4_p)\n",
        "agg_clusp4 = AgglomerativeClustering(n_clusters=2,linkage = 'single',affinity='correlation').fit(X_disp4_p)\n",
        "agg_clusp5 = AgglomerativeClustering(n_clusters=2,linkage = 'single',affinity='chebyshev').fit(X_disp4_p)\n",
        "Yp_1 = agg_clusp.labels_\n",
        "Yp_2 = agg_clusp2.labels_\n",
        "Yp_3 = agg_clusp3.labels_\n",
        "Yp_4 = agg_clusp4.labels_\n",
        "Yp_5 = agg_clusp5.labels_"
      ],
      "metadata": {
        "id": "y0fZSB9UumMv",
        "colab": {
          "base_uri": "https://localhost:8080/"
        },
        "outputId": "8d3e1a99-657b-4206-c9c1-9b5e1e8c3d12"
      },
      "execution_count": null,
      "outputs": [
        {
          "output_type": "stream",
          "name": "stderr",
          "text": [
            "/usr/local/lib/python3.9/dist-packages/sklearn/cluster/_agglomerative.py:983: FutureWarning: Attribute `affinity` was deprecated in version 1.2 and will be removed in 1.4. Use `metric` instead\n",
            "  warnings.warn(\n",
            "/usr/local/lib/python3.9/dist-packages/sklearn/cluster/_agglomerative.py:983: FutureWarning: Attribute `affinity` was deprecated in version 1.2 and will be removed in 1.4. Use `metric` instead\n",
            "  warnings.warn(\n",
            "/usr/local/lib/python3.9/dist-packages/sklearn/cluster/_agglomerative.py:983: FutureWarning: Attribute `affinity` was deprecated in version 1.2 and will be removed in 1.4. Use `metric` instead\n",
            "  warnings.warn(\n",
            "/usr/local/lib/python3.9/dist-packages/sklearn/cluster/_agglomerative.py:983: FutureWarning: Attribute `affinity` was deprecated in version 1.2 and will be removed in 1.4. Use `metric` instead\n",
            "  warnings.warn(\n"
          ]
        }
      ]
    },
    {
      "cell_type": "code",
      "source": [
        "ll = [Yp_1,Yp_2,Yp_3,Yp_4,Yp_5]\n",
        "for i in ll:\n",
        "  print(np.unique(i,return_counts=True))\n",
        "  "
      ],
      "metadata": {
        "id": "SWY7tPvKyhtn",
        "colab": {
          "base_uri": "https://localhost:8080/"
        },
        "outputId": "a595694c-fd05-4d98-fd06-290173313f73"
      },
      "execution_count": null,
      "outputs": [
        {
          "output_type": "stream",
          "name": "stdout",
          "text": [
            "(array([0, 1]), array([9884,    1]))\n",
            "(array([0, 1]), array([9884,    1]))\n",
            "(array([0, 1]), array([9884,    1]))\n",
            "(array([0, 1]), array([9884,    1]))\n",
            "(array([0, 1]), array([9884,    1]))\n"
          ]
        }
      ]
    },
    {
      "cell_type": "code",
      "source": [
        "count1 = 0\n",
        "for i in ll:\n",
        "  count1+=1\n",
        "  print(f'for cluster : {count1}')\n",
        "  print(f\"calinski_harabasz_score : {calinski_harabasz_score(X_disp4_p,i)}\")\n",
        "  print(f\"silhouette_score : {silhouette_score(X_disp4_p,i)}\")\n",
        "  print(f\"davies_bouldin_score : {davies_bouldin_score(X_disp4_p,i)}\")"
      ],
      "metadata": {
        "id": "HgChbFfLyzRn",
        "colab": {
          "base_uri": "https://localhost:8080/"
        },
        "outputId": "44440d4d-d92d-4eb2-810f-c50ef23f5dd7"
      },
      "execution_count": null,
      "outputs": [
        {
          "output_type": "stream",
          "name": "stdout",
          "text": [
            "for cluster : 1\n",
            "calinski_harabasz_score : 326.41293975064144\n",
            "silhouette_score : 0.9349383459419742\n",
            "davies_bouldin_score : 0.04273981703456355\n",
            "for cluster : 2\n",
            "calinski_harabasz_score : 39.276338255826246\n",
            "silhouette_score : 0.8170535424280353\n",
            "davies_bouldin_score : 0.12164511858572742\n",
            "for cluster : 3\n",
            "calinski_harabasz_score : 10.45099204402978\n",
            "silhouette_score : 0.6621655425834929\n",
            "davies_bouldin_score : 0.23558697558053887\n",
            "for cluster : 4\n",
            "calinski_harabasz_score : 10.45099204402978\n",
            "silhouette_score : 0.6621655425834929\n",
            "davies_bouldin_score : 0.23558697558053887\n",
            "for cluster : 5\n",
            "calinski_harabasz_score : 326.41293975064144\n",
            "silhouette_score : 0.9349383459419742\n",
            "davies_bouldin_score : 0.04273981703456355\n"
          ]
        }
      ]
    },
    {
      "cell_type": "code",
      "source": [
        "# appling on the testing data"
      ],
      "metadata": {
        "id": "j2ZYXq7yU6v9"
      },
      "execution_count": null,
      "outputs": []
    },
    {
      "cell_type": "code",
      "source": [
        "agg_clus = AgglomerativeClustering(n_clusters=2,linkage = 'single',metric='euclidean').fit(test_X)\n",
        "agg_clus2 = AgglomerativeClustering(n_clusters=2,linkage = 'single',affinity='manhattan').fit(test_X)\n",
        "agg_clus3 = AgglomerativeClustering(n_clusters=2,linkage = 'single',affinity='cosine').fit(test_X)\n",
        "agg_clus4 = AgglomerativeClustering(n_clusters=2,linkage = 'single',affinity='correlation').fit(test_X)\n",
        "agg_clus5 = AgglomerativeClustering(n_clusters=2,linkage = 'single',affinity='chebyshev').fit(test_X)\n",
        "Yt_1 = agg_clus.labels_\n",
        "Yt_2 = agg_clus2.labels_\n",
        "Yt_3 = agg_clus3.labels_\n",
        "Yt_4 = agg_clus4.labels_\n",
        "Yt_5 = agg_clus5.labels_\n"
      ],
      "metadata": {
        "id": "FMtuD7JbVPW7",
        "colab": {
          "base_uri": "https://localhost:8080/"
        },
        "outputId": "e1acec81-7706-4b10-91f4-f8b8472773ae"
      },
      "execution_count": null,
      "outputs": [
        {
          "output_type": "stream",
          "name": "stderr",
          "text": [
            "/usr/local/lib/python3.9/dist-packages/sklearn/cluster/_agglomerative.py:983: FutureWarning: Attribute `affinity` was deprecated in version 1.2 and will be removed in 1.4. Use `metric` instead\n",
            "  warnings.warn(\n",
            "/usr/local/lib/python3.9/dist-packages/sklearn/cluster/_agglomerative.py:983: FutureWarning: Attribute `affinity` was deprecated in version 1.2 and will be removed in 1.4. Use `metric` instead\n",
            "  warnings.warn(\n",
            "/usr/local/lib/python3.9/dist-packages/sklearn/cluster/_agglomerative.py:983: FutureWarning: Attribute `affinity` was deprecated in version 1.2 and will be removed in 1.4. Use `metric` instead\n",
            "  warnings.warn(\n",
            "/usr/local/lib/python3.9/dist-packages/sklearn/cluster/_agglomerative.py:983: FutureWarning: Attribute `affinity` was deprecated in version 1.2 and will be removed in 1.4. Use `metric` instead\n",
            "  warnings.warn(\n"
          ]
        }
      ]
    },
    {
      "cell_type": "code",
      "source": [
        "Yt_1 = agg_clus.labels_\n",
        "Yt_2 = agg_clus2.labels_\n",
        "Yt_3 = agg_clus3.labels_\n",
        "Yt_4 = agg_clus4.labels_\n",
        "Yt_5 = agg_clus5.labels_\n",
        "lll = [Yt_1,Yt_2,Yt_3,Yt_4,Yt_5]\n",
        "for i in lll:\n",
        "  print(np.unique(i,return_counts=True))"
      ],
      "metadata": {
        "id": "oHpg2D1yU7BH",
        "colab": {
          "base_uri": "https://localhost:8080/"
        },
        "outputId": "c2fb0b7d-a51c-4dd2-8434-a42ad2c235c4"
      },
      "execution_count": null,
      "outputs": [
        {
          "output_type": "stream",
          "name": "stdout",
          "text": [
            "(array([0, 1]), array([939,   1]))\n",
            "(array([0, 1]), array([939,   1]))\n",
            "(array([0, 1]), array([939,   1]))\n",
            "(array([0, 1]), array([939,   1]))\n",
            "(array([0, 1]), array([939,   1]))\n"
          ]
        }
      ]
    },
    {
      "cell_type": "code",
      "source": [
        "count2 = 0\n",
        "for i in lll:\n",
        "  count2+=1\n",
        "  print(f'for cluster : {count2}')\n",
        "  print(f\"calinski_harabasz_score : {calinski_harabasz_score(test_X,i)}\")\n",
        "  print(f\"silhouette_score : {silhouette_score(test_X,i)}\")\n",
        "  print(f\"davies_bouldin_score : {davies_bouldin_score(test_X,i)}\")"
      ],
      "metadata": {
        "id": "lqHUreb3z-rv",
        "colab": {
          "base_uri": "https://localhost:8080/"
        },
        "outputId": "ff7fe211-6923-456c-de0a-f5cdfb21394c"
      },
      "execution_count": null,
      "outputs": [
        {
          "output_type": "stream",
          "name": "stdout",
          "text": [
            "for cluster : 1\n",
            "calinski_harabasz_score : 41.816109196016605\n",
            "silhouette_score : 0.8144377806728943\n",
            "davies_bouldin_score : 0.12255256773671462\n",
            "for cluster : 2\n",
            "calinski_harabasz_score : 41.816109196016605\n",
            "silhouette_score : 0.8144377806728943\n",
            "davies_bouldin_score : 0.12255256773671462\n",
            "for cluster : 3\n",
            "calinski_harabasz_score : 0.5650245953934909\n",
            "silhouette_score : -0.06896952056510466\n",
            "davies_bouldin_score : 1.0411152545919422\n",
            "for cluster : 4\n",
            "calinski_harabasz_score : 0.11725949435539632\n",
            "silhouette_score : -0.35452038520854134\n",
            "davies_bouldin_score : 2.2861069950263917\n",
            "for cluster : 5\n",
            "calinski_harabasz_score : 30.022504441965307\n",
            "silhouette_score : 0.7835470731672468\n",
            "davies_bouldin_score : 0.14400441159251787\n"
          ]
        }
      ]
    },
    {
      "cell_type": "code",
      "source": [
        "agg_clusp = AgglomerativeClustering(n_clusters=2,linkage = 'single',metric='euclidean').fit(test_X_p)\n",
        "agg_clusp2 = AgglomerativeClustering(n_clusters=2,linkage = 'single',affinity='manhattan').fit(test_X_p)\n",
        "agg_clusp3 = AgglomerativeClustering(n_clusters=2,linkage = 'single',affinity='cosine').fit(test_X_p)\n",
        "agg_clusp4 = AgglomerativeClustering(n_clusters=2,linkage = 'single',affinity='correlation').fit(test_X_p)\n",
        "agg_clusp5 = AgglomerativeClustering(n_clusters=2,linkage = 'single',affinity='chebyshev').fit(test_X_p)\n",
        "Ytp_1 = agg_clusp.labels_\n",
        "Ytp_2 = agg_clusp2.labels_\n",
        "Ytp_3 = agg_clusp3.labels_\n",
        "Ytp_4 = agg_clusp4.labels_\n",
        "Ytp_5 = agg_clusp5.labels_\n"
      ],
      "metadata": {
        "id": "PSCDmsvXU7BK",
        "colab": {
          "base_uri": "https://localhost:8080/"
        },
        "outputId": "2f3544d2-cc76-45ab-922e-a70a966a8903"
      },
      "execution_count": null,
      "outputs": [
        {
          "output_type": "stream",
          "name": "stderr",
          "text": [
            "/usr/local/lib/python3.9/dist-packages/sklearn/cluster/_agglomerative.py:983: FutureWarning: Attribute `affinity` was deprecated in version 1.2 and will be removed in 1.4. Use `metric` instead\n",
            "  warnings.warn(\n",
            "/usr/local/lib/python3.9/dist-packages/sklearn/cluster/_agglomerative.py:983: FutureWarning: Attribute `affinity` was deprecated in version 1.2 and will be removed in 1.4. Use `metric` instead\n",
            "  warnings.warn(\n",
            "/usr/local/lib/python3.9/dist-packages/sklearn/cluster/_agglomerative.py:983: FutureWarning: Attribute `affinity` was deprecated in version 1.2 and will be removed in 1.4. Use `metric` instead\n",
            "  warnings.warn(\n",
            "/usr/local/lib/python3.9/dist-packages/sklearn/cluster/_agglomerative.py:983: FutureWarning: Attribute `affinity` was deprecated in version 1.2 and will be removed in 1.4. Use `metric` instead\n",
            "  warnings.warn(\n"
          ]
        }
      ]
    },
    {
      "cell_type": "code",
      "source": [
        "llll = [Ytp_1,Ytp_2,Ytp_3,Ytp_4,Ytp_5]\n",
        "for i in llll:\n",
        "  print(np.unique(i,return_counts=True))"
      ],
      "metadata": {
        "id": "lhIby-cZ0Y2f",
        "colab": {
          "base_uri": "https://localhost:8080/"
        },
        "outputId": "5fbd8306-3ae9-4d55-aadc-5d80a2afa693"
      },
      "execution_count": null,
      "outputs": [
        {
          "output_type": "stream",
          "name": "stdout",
          "text": [
            "(array([0, 1]), array([939,   1]))\n",
            "(array([0, 1]), array([939,   1]))\n",
            "(array([0, 1]), array([939,   1]))\n",
            "(array([0, 1]), array([939,   1]))\n",
            "(array([0, 1]), array([939,   1]))\n"
          ]
        }
      ]
    },
    {
      "cell_type": "code",
      "source": [
        "count3 = 0\n",
        "for i in llll:\n",
        "  count3+=1\n",
        "  print(f'for cluster : {count3}')\n",
        "  print(f\"calinski_harabasz_score : {calinski_harabasz_score(test_X_p,i)}\")\n",
        "  print(f\"silhouette_score : {silhouette_score(test_X_p,i)}\")\n",
        "  print(f\"davies_bouldin_score : {davies_bouldin_score(test_X_p,i)}\")"
      ],
      "metadata": {
        "id": "kJumGu1D0bDb",
        "colab": {
          "base_uri": "https://localhost:8080/"
        },
        "outputId": "5ccc1897-159e-45dd-ab63-d020bd7d67d2"
      },
      "execution_count": null,
      "outputs": [
        {
          "output_type": "stream",
          "name": "stdout",
          "text": [
            "for cluster : 1\n",
            "calinski_harabasz_score : 46.45949825726755\n",
            "silhouette_score : 0.8255331970603988\n",
            "davies_bouldin_score : 0.11487810890569611\n",
            "for cluster : 2\n",
            "calinski_harabasz_score : 46.45949825726755\n",
            "silhouette_score : 0.8255331970603988\n",
            "davies_bouldin_score : 0.11487810890569611\n",
            "for cluster : 3\n",
            "calinski_harabasz_score : 0.7172698936309798\n",
            "silhouette_score : 0.012098686560669668\n",
            "davies_bouldin_score : 0.9116756014286683\n",
            "for cluster : 4\n",
            "calinski_harabasz_score : 0.7172698936309798\n",
            "silhouette_score : 0.012098686560669668\n",
            "davies_bouldin_score : 0.9116756014286683\n",
            "for cluster : 5\n",
            "calinski_harabasz_score : 36.96297012921366\n",
            "silhouette_score : 0.8059438335930682\n",
            "davies_bouldin_score : 0.12835577985464325\n"
          ]
        }
      ]
    },
    {
      "cell_type": "code",
      "source": [
        "#evaluating on the testing data"
      ],
      "metadata": {
        "id": "MUBoUpAmhLnd"
      },
      "execution_count": null,
      "outputs": []
    },
    {
      "cell_type": "code",
      "source": [],
      "metadata": {
        "id": "pyn-9jIshLcV"
      },
      "execution_count": null,
      "outputs": []
    },
    {
      "cell_type": "code",
      "source": [
        "from sklearn.metrics.cluster import adjusted_mutual_info_score"
      ],
      "metadata": {
        "id": "JRIdzSu1Yiv0"
      },
      "execution_count": null,
      "outputs": []
    },
    {
      "cell_type": "code",
      "source": [
        "test_Y"
      ],
      "metadata": {
        "id": "07jlNn_6ZPh0",
        "colab": {
          "base_uri": "https://localhost:8080/"
        },
        "outputId": "5da28366-2def-46ba-c5d1-1f9969266c7b"
      },
      "execution_count": null,
      "outputs": [
        {
          "output_type": "execute_result",
          "data": {
            "text/plain": [
              "0      0\n",
              "1      0\n",
              "2      1\n",
              "3      1\n",
              "4      0\n",
              "      ..\n",
              "987    1\n",
              "988    1\n",
              "989    0\n",
              "990    0\n",
              "991    0\n",
              "Name: Classification, Length: 940, dtype: int64"
            ]
          },
          "metadata": {},
          "execution_count": 46
        }
      ]
    },
    {
      "cell_type": "code",
      "source": [
        "adjusted_mutual_info_score(test_Y,Yt_1)"
      ],
      "metadata": {
        "id": "MagONBEqYswJ",
        "colab": {
          "base_uri": "https://localhost:8080/"
        },
        "outputId": "52eb9ad9-7c19-48b5-b8bb-8a93f90136b2"
      },
      "execution_count": null,
      "outputs": [
        {
          "output_type": "execute_result",
          "data": {
            "text/plain": [
              "-0.0001478403830191658"
            ]
          },
          "metadata": {},
          "execution_count": 47
        }
      ]
    },
    {
      "cell_type": "code",
      "source": [
        "adjusted_mutual_info_score(test_Y,Yt_2)"
      ],
      "metadata": {
        "id": "pCjWVvXwZpEQ",
        "colab": {
          "base_uri": "https://localhost:8080/"
        },
        "outputId": "ef56d3f8-0d6e-42b3-cfa5-36459b0f46ed"
      },
      "execution_count": null,
      "outputs": [
        {
          "output_type": "execute_result",
          "data": {
            "text/plain": [
              "-0.0001478403830191658"
            ]
          },
          "metadata": {},
          "execution_count": 48
        }
      ]
    },
    {
      "cell_type": "code",
      "source": [
        "adjusted_mutual_info_score(test_Y,Yt_3)"
      ],
      "metadata": {
        "id": "rA64OiBjZrxu",
        "colab": {
          "base_uri": "https://localhost:8080/"
        },
        "outputId": "f2332919-fbcd-4916-d0f1-ea836e625909"
      },
      "execution_count": null,
      "outputs": [
        {
          "output_type": "execute_result",
          "data": {
            "text/plain": [
              "0.00016375145562299589"
            ]
          },
          "metadata": {},
          "execution_count": 49
        }
      ]
    },
    {
      "cell_type": "code",
      "source": [
        "adjusted_mutual_info_score(test_Y,Yt_4)"
      ],
      "metadata": {
        "id": "HwUiMkjbZsMb",
        "colab": {
          "base_uri": "https://localhost:8080/"
        },
        "outputId": "9a5f5d9e-9fe6-4994-e6c1-49b271729ab6"
      },
      "execution_count": null,
      "outputs": [
        {
          "output_type": "execute_result",
          "data": {
            "text/plain": [
              "0.00016375145562299589"
            ]
          },
          "metadata": {},
          "execution_count": 50
        }
      ]
    },
    {
      "cell_type": "code",
      "source": [
        "adjusted_mutual_info_score(test_Y,Yt_5)"
      ],
      "metadata": {
        "id": "5U5dwECrZsuK",
        "colab": {
          "base_uri": "https://localhost:8080/"
        },
        "outputId": "9d652edb-1616-4e3b-ccc1-90de4cb666ca"
      },
      "execution_count": null,
      "outputs": [
        {
          "output_type": "execute_result",
          "data": {
            "text/plain": [
              "-0.0001478403830191658"
            ]
          },
          "metadata": {},
          "execution_count": 51
        }
      ]
    },
    {
      "cell_type": "code",
      "source": [
        "adjusted_mutual_info_score(test_Y,Ytp_1)"
      ],
      "metadata": {
        "id": "NpVXs9rBZ0dy",
        "colab": {
          "base_uri": "https://localhost:8080/"
        },
        "outputId": "8a57617b-f7c0-4a5d-f02f-89fc716849ca"
      },
      "execution_count": null,
      "outputs": [
        {
          "output_type": "execute_result",
          "data": {
            "text/plain": [
              "-0.0001478403830191658"
            ]
          },
          "metadata": {},
          "execution_count": 52
        }
      ]
    },
    {
      "cell_type": "code",
      "source": [
        "adjusted_mutual_info_score(test_Y,Ytp_2)"
      ],
      "metadata": {
        "id": "swixWzCBZ109",
        "colab": {
          "base_uri": "https://localhost:8080/"
        },
        "outputId": "7c95a751-a838-41f8-8a07-010ccb16e142"
      },
      "execution_count": null,
      "outputs": [
        {
          "output_type": "execute_result",
          "data": {
            "text/plain": [
              "-0.0001478403830191658"
            ]
          },
          "metadata": {},
          "execution_count": 53
        }
      ]
    },
    {
      "cell_type": "code",
      "source": [
        "adjusted_mutual_info_score(test_Y,Ytp_3)"
      ],
      "metadata": {
        "id": "2_tUbkVGZ2X-",
        "colab": {
          "base_uri": "https://localhost:8080/"
        },
        "outputId": "320d2570-63e3-4284-eae0-268568958cb5"
      },
      "execution_count": null,
      "outputs": [
        {
          "output_type": "execute_result",
          "data": {
            "text/plain": [
              "0.00016375145562299589"
            ]
          },
          "metadata": {},
          "execution_count": 54
        }
      ]
    },
    {
      "cell_type": "code",
      "source": [
        "adjusted_mutual_info_score(test_Y,Ytp_4)"
      ],
      "metadata": {
        "id": "Z1St6hLNZ28w",
        "colab": {
          "base_uri": "https://localhost:8080/"
        },
        "outputId": "114616e2-fe2b-40a7-803f-df32cf874be7"
      },
      "execution_count": null,
      "outputs": [
        {
          "output_type": "execute_result",
          "data": {
            "text/plain": [
              "0.00016375145562299589"
            ]
          },
          "metadata": {},
          "execution_count": 55
        }
      ]
    },
    {
      "cell_type": "code",
      "source": [
        "adjusted_mutual_info_score(test_Y,Ytp_5)"
      ],
      "metadata": {
        "id": "mPEnxSzBZ3et",
        "colab": {
          "base_uri": "https://localhost:8080/"
        },
        "outputId": "2384d869-44d1-4dca-86d3-f6438e12e672"
      },
      "execution_count": null,
      "outputs": [
        {
          "output_type": "execute_result",
          "data": {
            "text/plain": [
              "-0.0001478403830191658"
            ]
          },
          "metadata": {},
          "execution_count": 56
        }
      ]
    },
    {
      "cell_type": "code",
      "execution_count": null,
      "metadata": {
        "id": "4UDDp1b21Dl4",
        "colab": {
          "base_uri": "https://localhost:8080/"
        },
        "outputId": "54667236-c227-4e95-c5f8-e076288bdb41"
      },
      "outputs": [
        {
          "output_type": "execute_result",
          "data": {
            "text/plain": [
              "aa                  2\n",
              "aaaaaaaaaaaaaaaa    1\n",
              "aaaaand             1\n",
              "aaaah               1\n",
              "aaaand              1\n",
              "                   ..\n",
              "zooxanthellae       1\n",
              "zurich              1\n",
              "zv                  1\n",
              "zyrtec              1\n",
              "zz                  1\n",
              "Length: 14583, dtype: int64"
            ]
          },
          "metadata": {},
          "execution_count": 57
        }
      ],
      "source": [
        "np.sum(X_disp4==1)"
      ]
    },
    {
      "cell_type": "code",
      "execution_count": null,
      "metadata": {
        "id": "upc-G_Yw1g7m",
        "colab": {
          "base_uri": "https://localhost:8080/"
        },
        "outputId": "c27e9806-e2c7-4595-fcfb-a9163f7ef9ba"
      },
      "outputs": [
        {
          "output_type": "stream",
          "name": "stdout",
          "text": [
            "<class 'pandas.core.frame.DataFrame'>\n",
            "Int64Index: 9885 entries, 0 to 9999\n",
            "Columns: 14583 entries, aa to zz\n",
            "dtypes: int64(14583)\n",
            "memory usage: 1.1 GB\n"
          ]
        }
      ],
      "source": [
        "X_disp4.info()"
      ]
    },
    {
      "cell_type": "code",
      "source": [
        "#@title After vectorization, X_disp4 is a 14456 dimension dataset. Therefore, we need to reduce the dimension to reduce the complexity. We performed PCA and reduced the dimension to 1500.\n"
      ],
      "metadata": {
        "id": "ECn67tDgccqe"
      },
      "execution_count": null,
      "outputs": []
    },
    {
      "cell_type": "code",
      "execution_count": null,
      "metadata": {
        "id": "38oPC9rhH5RG"
      },
      "outputs": [],
      "source": [
        "X_disp4_056 = PCA(n_components=1500).fit_transform(X_disp4)"
      ]
    },
    {
      "cell_type": "code",
      "execution_count": null,
      "metadata": {
        "id": "vHOtChP53Yfv",
        "colab": {
          "base_uri": "https://localhost:8080/"
        },
        "outputId": "1e341638-a075-4140-e049-84776c1780af"
      },
      "outputs": [
        {
          "output_type": "execute_result",
          "data": {
            "text/plain": [
              "array([[-2.78812614e-01,  3.24345063e-03, -3.66118991e-02, ...,\n",
              "        -8.84189843e-03,  8.09674786e-03, -1.60412421e-03],\n",
              "       [-4.25046515e-01,  5.91301584e-02, -1.80728659e-01, ...,\n",
              "        -1.98597689e-03, -9.53455556e-04, -2.09387553e-03],\n",
              "       [-2.59818930e-01, -1.19935062e-02, -6.97608047e-03, ...,\n",
              "         1.03984412e-01, -2.61298498e-02,  3.48074256e-02],\n",
              "       ...,\n",
              "       [ 8.29597934e-02, -7.72568436e-01,  1.54375218e+00, ...,\n",
              "         4.09233308e-03,  2.05939544e-02, -1.07592322e-01],\n",
              "       [-2.62441309e-01, -1.16770895e-03, -6.22617375e-02, ...,\n",
              "        -3.49136899e-02,  4.09143823e-02, -5.29620091e-02],\n",
              "       [ 3.76235133e-02, -8.18863972e-02,  2.04227120e-01, ...,\n",
              "        -1.37635562e-01, -7.13300985e-02, -6.34867029e-02]])"
            ]
          },
          "metadata": {},
          "execution_count": 61
        }
      ],
      "source": [
        "X_disp4_056"
      ]
    },
    {
      "cell_type": "code",
      "source": [
        "#@title We performed K-means clustering using scipy library kmeans"
      ],
      "metadata": {
        "id": "kc_FvnQ3dbmO"
      },
      "execution_count": null,
      "outputs": []
    },
    {
      "cell_type": "code",
      "execution_count": null,
      "metadata": {
        "id": "J0t-iUGc4LnQ"
      },
      "outputs": [],
      "source": [
        "centroids, distortion = kmeans(X_disp4_056, 2)\n",
        "# Assign each data point to its closest centroid\n",
        "labels, _ = vq(X_disp4_056, centroids)"
      ]
    },
    {
      "cell_type": "code",
      "execution_count": null,
      "metadata": {
        "id": "-1nU-I5YzM5P",
        "colab": {
          "base_uri": "https://localhost:8080/"
        },
        "outputId": "a9122807-98fb-4bdc-e40d-476fa66d1049"
      },
      "outputs": [
        {
          "output_type": "execute_result",
          "data": {
            "text/plain": [
              "(9885, 1500)"
            ]
          },
          "metadata": {},
          "execution_count": 64
        }
      ],
      "source": [
        "X_disp4_056.shape"
      ]
    },
    {
      "cell_type": "code",
      "execution_count": null,
      "metadata": {
        "id": "qBis-GMA0OUD",
        "colab": {
          "base_uri": "https://localhost:8080/"
        },
        "outputId": "ba01c1cc-eb25-4939-8c5a-fb596ea787d1"
      },
      "outputs": [
        {
          "output_type": "execute_result",
          "data": {
            "text/plain": [
              "(2, 1500)"
            ]
          },
          "metadata": {},
          "execution_count": 65
        }
      ],
      "source": [
        "centroids.shape"
      ]
    },
    {
      "cell_type": "code",
      "execution_count": null,
      "metadata": {
        "id": "SstB34Mt4l_c",
        "colab": {
          "base_uri": "https://localhost:8080/"
        },
        "outputId": "0d50e737-b03a-47f4-fd10-8f86096931ff"
      },
      "outputs": [
        {
          "output_type": "stream",
          "name": "stdout",
          "text": [
            "543\n",
            "9342\n"
          ]
        }
      ],
      "source": [
        "print(np.sum(labels==0))\n",
        "print(np.sum(labels==1))"
      ]
    },
    {
      "cell_type": "code",
      "source": [
        "#@title We varied the 'thresh' hyper-parameter provided in scipy kmeans"
      ],
      "metadata": {
        "cellView": "form",
        "id": "ShDPnTnPd16b"
      },
      "execution_count": null,
      "outputs": []
    },
    {
      "cell_type": "code",
      "execution_count": null,
      "metadata": {
        "id": "RzgqMIcO0KD_",
        "colab": {
          "base_uri": "https://localhost:8080/"
        },
        "outputId": "124e82dc-6523-4dff-9be3-8a6343903319"
      },
      "outputs": [
        {
          "output_type": "stream",
          "name": "stdout",
          "text": [
            "Number of elements asigned to each cluster: [ 457 9428]\n",
            "Number of elements asigned to each cluster: [ 767 9118]\n",
            "Number of elements asigned to each cluster: [9114  771]\n",
            "Number of elements asigned to each cluster: [ 475 9410]\n",
            "Number of elements asigned to each cluster: [ 465 9420]\n",
            "Number of elements asigned to each cluster: [ 601 9284]\n",
            "Number of elements asigned to each cluster: [ 593 9292]\n",
            "Number of elements asigned to each cluster: [9404  481]\n",
            "Number of elements asigned to each cluster: [ 582 9303]\n",
            "Number of elements asigned to each cluster: [9373  512]\n"
          ]
        }
      ],
      "source": [
        "import math\n",
        "Y_disp=[]\n",
        "clust_size=[]\n",
        "for thresh in range(10):\n",
        "    thresh=math.exp(-1*thresh)\n",
        "    centroids, distortion = kmeans(X_disp4_056, 2, thresh=thresh)\n",
        "    labels, _ = vq(X_disp4_056, centroids)\n",
        "    cluster_ids, cluster_sizes = np.unique(labels, return_counts=True)\n",
        "    Y_disp.append(labels)\n",
        "    clust_size.append(cluster_sizes)\n",
        "    print(f\"Number of elements asigned to each cluster: {cluster_sizes}\")\n",
        "    "
      ]
    },
    {
      "cell_type": "code",
      "source": [
        "print(labels)"
      ],
      "metadata": {
        "colab": {
          "base_uri": "https://localhost:8080/"
        },
        "id": "0Gv1D0fmZdot",
        "outputId": "82731b79-e015-41e5-b218-cc9f0b09314b"
      },
      "execution_count": null,
      "outputs": [
        {
          "output_type": "stream",
          "name": "stdout",
          "text": [
            "[0 0 0 ... 0 0 0]\n"
          ]
        }
      ]
    },
    {
      "cell_type": "code",
      "execution_count": null,
      "metadata": {
        "id": "ucnZksNJ7GaT",
        "colab": {
          "base_uri": "https://localhost:8080/"
        },
        "outputId": "80eb5a19-3136-42a2-b0b4-cc96fce11677"
      },
      "outputs": [
        {
          "output_type": "execute_result",
          "data": {
            "text/plain": [
              "  Threshold  Cluster sizes  calinski_harabasz_score  silhouette_score  \\\n",
              "0    exp(-0)   [457, 9428]               607.145883          0.563222   \n",
              "1    exp(-1)   [767, 9118]               555.362993          0.477529   \n",
              "2    exp(-2)   [9114, 771]               554.502135          0.476916   \n",
              "3    exp(-3)   [475, 9410]               603.669856          0.558651   \n",
              "4    exp(-4)   [465, 9420]               605.660486          0.561976   \n",
              "5    exp(-5)   [601, 9284]               579.389344          0.522051   \n",
              "6    exp(-6)   [593, 9292]               580.729307          0.524119   \n",
              "7    exp(-7)   [9404, 481]               602.461232          0.556980   \n",
              "8    exp(-8)   [582, 9303]               582.582730          0.527028   \n",
              "9    exp(-9)   [9373, 512]               595.929838          0.550204   \n",
              "\n",
              "   davies_bouldin_score  \n",
              "0              2.420550  \n",
              "1              2.791626  \n",
              "2              2.798022  \n",
              "3              2.453622  \n",
              "4              2.439460  \n",
              "5              2.628084  \n",
              "6              2.617621  \n",
              "7              2.463680  \n",
              "8              2.603295  \n",
              "9              2.523816  "
            ],
            "text/html": [
              "\n",
              "  <div id=\"df-b766d820-dcf8-4f1f-8316-f0a5b3e45c5d\">\n",
              "    <div class=\"colab-df-container\">\n",
              "      <div>\n",
              "<style scoped>\n",
              "    .dataframe tbody tr th:only-of-type {\n",
              "        vertical-align: middle;\n",
              "    }\n",
              "\n",
              "    .dataframe tbody tr th {\n",
              "        vertical-align: top;\n",
              "    }\n",
              "\n",
              "    .dataframe thead th {\n",
              "        text-align: right;\n",
              "    }\n",
              "</style>\n",
              "<table border=\"1\" class=\"dataframe\">\n",
              "  <thead>\n",
              "    <tr style=\"text-align: right;\">\n",
              "      <th></th>\n",
              "      <th>Threshold</th>\n",
              "      <th>Cluster sizes</th>\n",
              "      <th>calinski_harabasz_score</th>\n",
              "      <th>silhouette_score</th>\n",
              "      <th>davies_bouldin_score</th>\n",
              "    </tr>\n",
              "  </thead>\n",
              "  <tbody>\n",
              "    <tr>\n",
              "      <th>0</th>\n",
              "      <td>exp(-0)</td>\n",
              "      <td>[457, 9428]</td>\n",
              "      <td>607.145883</td>\n",
              "      <td>0.563222</td>\n",
              "      <td>2.420550</td>\n",
              "    </tr>\n",
              "    <tr>\n",
              "      <th>1</th>\n",
              "      <td>exp(-1)</td>\n",
              "      <td>[767, 9118]</td>\n",
              "      <td>555.362993</td>\n",
              "      <td>0.477529</td>\n",
              "      <td>2.791626</td>\n",
              "    </tr>\n",
              "    <tr>\n",
              "      <th>2</th>\n",
              "      <td>exp(-2)</td>\n",
              "      <td>[9114, 771]</td>\n",
              "      <td>554.502135</td>\n",
              "      <td>0.476916</td>\n",
              "      <td>2.798022</td>\n",
              "    </tr>\n",
              "    <tr>\n",
              "      <th>3</th>\n",
              "      <td>exp(-3)</td>\n",
              "      <td>[475, 9410]</td>\n",
              "      <td>603.669856</td>\n",
              "      <td>0.558651</td>\n",
              "      <td>2.453622</td>\n",
              "    </tr>\n",
              "    <tr>\n",
              "      <th>4</th>\n",
              "      <td>exp(-4)</td>\n",
              "      <td>[465, 9420]</td>\n",
              "      <td>605.660486</td>\n",
              "      <td>0.561976</td>\n",
              "      <td>2.439460</td>\n",
              "    </tr>\n",
              "    <tr>\n",
              "      <th>5</th>\n",
              "      <td>exp(-5)</td>\n",
              "      <td>[601, 9284]</td>\n",
              "      <td>579.389344</td>\n",
              "      <td>0.522051</td>\n",
              "      <td>2.628084</td>\n",
              "    </tr>\n",
              "    <tr>\n",
              "      <th>6</th>\n",
              "      <td>exp(-6)</td>\n",
              "      <td>[593, 9292]</td>\n",
              "      <td>580.729307</td>\n",
              "      <td>0.524119</td>\n",
              "      <td>2.617621</td>\n",
              "    </tr>\n",
              "    <tr>\n",
              "      <th>7</th>\n",
              "      <td>exp(-7)</td>\n",
              "      <td>[9404, 481]</td>\n",
              "      <td>602.461232</td>\n",
              "      <td>0.556980</td>\n",
              "      <td>2.463680</td>\n",
              "    </tr>\n",
              "    <tr>\n",
              "      <th>8</th>\n",
              "      <td>exp(-8)</td>\n",
              "      <td>[582, 9303]</td>\n",
              "      <td>582.582730</td>\n",
              "      <td>0.527028</td>\n",
              "      <td>2.603295</td>\n",
              "    </tr>\n",
              "    <tr>\n",
              "      <th>9</th>\n",
              "      <td>exp(-9)</td>\n",
              "      <td>[9373, 512]</td>\n",
              "      <td>595.929838</td>\n",
              "      <td>0.550204</td>\n",
              "      <td>2.523816</td>\n",
              "    </tr>\n",
              "  </tbody>\n",
              "</table>\n",
              "</div>\n",
              "      <button class=\"colab-df-convert\" onclick=\"convertToInteractive('df-b766d820-dcf8-4f1f-8316-f0a5b3e45c5d')\"\n",
              "              title=\"Convert this dataframe to an interactive table.\"\n",
              "              style=\"display:none;\">\n",
              "        \n",
              "  <svg xmlns=\"http://www.w3.org/2000/svg\" height=\"24px\"viewBox=\"0 0 24 24\"\n",
              "       width=\"24px\">\n",
              "    <path d=\"M0 0h24v24H0V0z\" fill=\"none\"/>\n",
              "    <path d=\"M18.56 5.44l.94 2.06.94-2.06 2.06-.94-2.06-.94-.94-2.06-.94 2.06-2.06.94zm-11 1L8.5 8.5l.94-2.06 2.06-.94-2.06-.94L8.5 2.5l-.94 2.06-2.06.94zm10 10l.94 2.06.94-2.06 2.06-.94-2.06-.94-.94-2.06-.94 2.06-2.06.94z\"/><path d=\"M17.41 7.96l-1.37-1.37c-.4-.4-.92-.59-1.43-.59-.52 0-1.04.2-1.43.59L10.3 9.45l-7.72 7.72c-.78.78-.78 2.05 0 2.83L4 21.41c.39.39.9.59 1.41.59.51 0 1.02-.2 1.41-.59l7.78-7.78 2.81-2.81c.8-.78.8-2.07 0-2.86zM5.41 20L4 18.59l7.72-7.72 1.47 1.35L5.41 20z\"/>\n",
              "  </svg>\n",
              "      </button>\n",
              "      \n",
              "  <style>\n",
              "    .colab-df-container {\n",
              "      display:flex;\n",
              "      flex-wrap:wrap;\n",
              "      gap: 12px;\n",
              "    }\n",
              "\n",
              "    .colab-df-convert {\n",
              "      background-color: #E8F0FE;\n",
              "      border: none;\n",
              "      border-radius: 50%;\n",
              "      cursor: pointer;\n",
              "      display: none;\n",
              "      fill: #1967D2;\n",
              "      height: 32px;\n",
              "      padding: 0 0 0 0;\n",
              "      width: 32px;\n",
              "    }\n",
              "\n",
              "    .colab-df-convert:hover {\n",
              "      background-color: #E2EBFA;\n",
              "      box-shadow: 0px 1px 2px rgba(60, 64, 67, 0.3), 0px 1px 3px 1px rgba(60, 64, 67, 0.15);\n",
              "      fill: #174EA6;\n",
              "    }\n",
              "\n",
              "    [theme=dark] .colab-df-convert {\n",
              "      background-color: #3B4455;\n",
              "      fill: #D2E3FC;\n",
              "    }\n",
              "\n",
              "    [theme=dark] .colab-df-convert:hover {\n",
              "      background-color: #434B5C;\n",
              "      box-shadow: 0px 1px 3px 1px rgba(0, 0, 0, 0.15);\n",
              "      filter: drop-shadow(0px 1px 2px rgba(0, 0, 0, 0.3));\n",
              "      fill: #FFFFFF;\n",
              "    }\n",
              "  </style>\n",
              "\n",
              "      <script>\n",
              "        const buttonEl =\n",
              "          document.querySelector('#df-b766d820-dcf8-4f1f-8316-f0a5b3e45c5d button.colab-df-convert');\n",
              "        buttonEl.style.display =\n",
              "          google.colab.kernel.accessAllowed ? 'block' : 'none';\n",
              "\n",
              "        async function convertToInteractive(key) {\n",
              "          const element = document.querySelector('#df-b766d820-dcf8-4f1f-8316-f0a5b3e45c5d');\n",
              "          const dataTable =\n",
              "            await google.colab.kernel.invokeFunction('convertToInteractive',\n",
              "                                                     [key], {});\n",
              "          if (!dataTable) return;\n",
              "\n",
              "          const docLinkHtml = 'Like what you see? Visit the ' +\n",
              "            '<a target=\"_blank\" href=https://colab.research.google.com/notebooks/data_table.ipynb>data table notebook</a>'\n",
              "            + ' to learn more about interactive tables.';\n",
              "          element.innerHTML = '';\n",
              "          dataTable['output_type'] = 'display_data';\n",
              "          await google.colab.output.renderOutput(dataTable, element);\n",
              "          const docLink = document.createElement('div');\n",
              "          docLink.innerHTML = docLinkHtml;\n",
              "          element.appendChild(docLink);\n",
              "        }\n",
              "      </script>\n",
              "    </div>\n",
              "  </div>\n",
              "  "
            ]
          },
          "metadata": {},
          "execution_count": 70
        }
      ],
      "source": [
        "ch_score=[]\n",
        "sil_score=[]\n",
        "db_score=[]\n",
        "for seed in range(10):\n",
        "    ch_score.append(calinski_harabasz_score(X_disp4_056,Y_disp[seed]))\n",
        "    sil_score.append(silhouette_score(X_disp4_056,Y_disp[seed]))\n",
        "    db_score.append(davies_bouldin_score(X_disp4_056,Y_disp[seed]))\n",
        "\n",
        "k_mean_dict={\"Threshold \":[f\"exp(-{seed})\" for seed in range(10)],\"Cluster sizes\":clust_size,\n",
        "             \"calinski_harabasz_score\":ch_score,\"silhouette_score\":sil_score,\"davies_bouldin_score\":db_score} \n",
        "pd.DataFrame(k_mean_dict)                "
      ]
    },
    {
      "cell_type": "code",
      "source": [
        "#@title Testing"
      ],
      "metadata": {
        "id": "hv50qTFneCYw"
      },
      "execution_count": null,
      "outputs": []
    },
    {
      "cell_type": "code",
      "source": [
        "#@title We manually labelled some samples for testing our model"
      ],
      "metadata": {
        "id": "ZBeyO6nCeMqY"
      },
      "execution_count": null,
      "outputs": []
    },
    {
      "cell_type": "code",
      "execution_count": null,
      "metadata": {
        "id": "i1mxKqZZUh4B"
      },
      "outputs": [],
      "source": [
        "test_data = pd.read_excel('/content/drive/MyDrive/PRML LABs/PRML Minor Project/processed_batch (1).xlsx')"
      ]
    },
    {
      "cell_type": "code",
      "execution_count": null,
      "metadata": {
        "id": "9kF9bjuuXYHG",
        "colab": {
          "base_uri": "https://localhost:8080/"
        },
        "outputId": "7fda3c36-97e0-45af-b098-eb674c591c4c"
      },
      "outputs": [
        {
          "output_type": "stream",
          "name": "stdout",
          "text": [
            "<class 'pandas.core.frame.DataFrame'>\n",
            "RangeIndex: 2948 entries, 0 to 2947\n",
            "Data columns (total 11 columns):\n",
            " #   Column               Non-Null Count  Dtype \n",
            "---  ------               --------------  ----- \n",
            " 0   Comment (Displayed)  2948 non-null   object\n",
            " 1   Unnamed: 1           123 non-null    object\n",
            " 2   Unnamed: 2           53 non-null     object\n",
            " 3   Unnamed: 3           19 non-null     object\n",
            " 4   Unnamed: 4           11 non-null     object\n",
            " 5   Unnamed: 5           6 non-null      object\n",
            " 6   Unnamed: 6           3 non-null      object\n",
            " 7   Unnamed: 7           2 non-null      object\n",
            " 8   Unnamed: 8           1 non-null      object\n",
            " 9   Unnamed: 9           1 non-null      object\n",
            " 10  Classification       2948 non-null   int64 \n",
            "dtypes: int64(1), object(10)\n",
            "memory usage: 253.5+ KB\n"
          ]
        }
      ],
      "source": [
        "test_data.info()"
      ]
    },
    {
      "cell_type": "code",
      "execution_count": null,
      "metadata": {
        "id": "hX26hf8OXc2N",
        "colab": {
          "base_uri": "https://localhost:8080/"
        },
        "outputId": "2cd83429-2aec-493b-c645-3a2ba28f67e8"
      },
      "outputs": [
        {
          "output_type": "execute_result",
          "data": {
            "text/plain": [
              "Comment (Displayed)       0\n",
              "Unnamed: 1             2825\n",
              "Unnamed: 2             2895\n",
              "Unnamed: 3             2929\n",
              "Unnamed: 4             2937\n",
              "Unnamed: 5             2942\n",
              "Unnamed: 6             2945\n",
              "Unnamed: 7             2946\n",
              "Unnamed: 8             2947\n",
              "Unnamed: 9             2947\n",
              "Classification            0\n",
              "dtype: int64"
            ]
          },
          "metadata": {},
          "execution_count": 75
        }
      ],
      "source": [
        "np.sum(pd.isnull(test_data))"
      ]
    },
    {
      "cell_type": "code",
      "source": [
        "#@title Similarly as in training, we performed NLP and vectorization on testing data features."
      ],
      "metadata": {
        "id": "BaD7q1lBecdu"
      },
      "execution_count": null,
      "outputs": []
    },
    {
      "cell_type": "code",
      "execution_count": null,
      "metadata": {
        "id": "-Y5s2t6bnF4Y"
      },
      "outputs": [],
      "source": [
        "# test_disp=test_data['CONTENT']\n",
        "# test_data_y=test_data['\n",
        "# ']\n",
        "test_data = test_data[[\"Comment (Displayed)\",\"Classification\"]]\n",
        "test_data_y= test_data[\"Classification\"]\n",
        "test_disp = test_data[\"Comment (Displayed)\"]"
      ]
    },
    {
      "cell_type": "code",
      "execution_count": null,
      "metadata": {
        "id": "PR_-SJoeYDy6"
      },
      "outputs": [],
      "source": [
        "corpus = []\n",
        "for i in range(0, test_disp.shape[0]):\n",
        "  review = re.sub('[^a-zA-Z]', ' ', test_disp.iloc[i])\n",
        "  review = review.lower()\n",
        "  review = review.split()\n",
        "  wnl = WordNetLemmatizer()\n",
        "  all_stopwords = stopwords.words('english')\n",
        "  all_stopwords.remove('not')\n",
        "  review = [wnl.lemmatize(word) for word in review if not word in set(all_stopwords)]\n",
        "  review = ' '.join(review)\n",
        "  corpus.append(review)\n",
        "test_disp1 = np.array(corpus)"
      ]
    },
    {
      "cell_type": "code",
      "execution_count": null,
      "metadata": {
        "id": "BjUapX3nYs60",
        "colab": {
          "base_uri": "https://localhost:8080/"
        },
        "outputId": "157938a5-fe57-4cab-e710-54eaacb2afe8"
      },
      "outputs": [
        {
          "output_type": "execute_result",
          "data": {
            "text/plain": [
              "(2948,)"
            ]
          },
          "metadata": {},
          "execution_count": 79
        }
      ],
      "source": [
        "test_disp1.shape"
      ]
    },
    {
      "cell_type": "code",
      "execution_count": null,
      "metadata": {
        "id": "CTDn2SWAYxSf",
        "colab": {
          "base_uri": "https://localhost:8080/"
        },
        "outputId": "d3c22cca-47f7-4466-b6d7-3e42d55ebf62"
      },
      "outputs": [
        {
          "output_type": "execute_result",
          "data": {
            "text/plain": [
              "array(['zombie spider bomb damn lab',\n",
              "       'way le cool seems spider actually muscle extension leg hydraulically controlled force grabbing thing rubber band like action dead muscle also dead grab weak main reason lift stuff little claw hook thing',\n",
              "       'spider see made terrifying go poking panic button', ..., 'wow',\n",
              "       'shakira u wiredo', 'shakira best dancer'], dtype='<U2679')"
            ]
          },
          "metadata": {},
          "execution_count": 80
        }
      ],
      "source": [
        "test_disp1"
      ]
    },
    {
      "cell_type": "code",
      "execution_count": null,
      "metadata": {
        "id": "xuIPNI3SY4wY"
      },
      "outputs": [],
      "source": [
        "test_disp2 = vectorizer.transform(test_disp1)\n",
        "features = vectorizer.get_feature_names_out()\n",
        "test_disp2 = pd.DataFrame(test_disp2.toarray(),columns = features)"
      ]
    },
    {
      "cell_type": "code",
      "execution_count": null,
      "metadata": {
        "id": "SoykB6qkp70l",
        "colab": {
          "base_uri": "https://localhost:8080/"
        },
        "outputId": "da49f916-258b-4cb4-ad67-aa2f9f169e02"
      },
      "outputs": [
        {
          "output_type": "execute_result",
          "data": {
            "text/plain": [
              "(2948, 14583)"
            ]
          },
          "metadata": {},
          "execution_count": 82
        }
      ],
      "source": [
        "test_disp2.shape"
      ]
    },
    {
      "cell_type": "code",
      "execution_count": null,
      "metadata": {
        "id": "CJ5wt321owQ9",
        "colab": {
          "base_uri": "https://localhost:8080/"
        },
        "outputId": "08a16708-5ab6-49b2-e73c-ef7deca2f99d"
      },
      "outputs": [
        {
          "output_type": "stream",
          "name": "stdout",
          "text": [
            "<class 'pandas.core.frame.DataFrame'>\n",
            "RangeIndex: 2948 entries, 0 to 2947\n",
            "Columns: 14583 entries, aa to zz\n",
            "dtypes: int64(14583)\n",
            "memory usage: 328.0 MB\n"
          ]
        }
      ],
      "source": [
        "test_disp2.info()"
      ]
    },
    {
      "cell_type": "code",
      "source": [
        "#@title Performed PCA on testing features to make the no. of features equal of both training and testing features."
      ],
      "metadata": {
        "id": "Ks4Fl5Xme35x"
      },
      "execution_count": null,
      "outputs": []
    },
    {
      "cell_type": "code",
      "execution_count": null,
      "metadata": {
        "id": "KRhaXhJCZIk_"
      },
      "outputs": [],
      "source": [
        "pca = PCA(n_components=1500)\n",
        "test_disp2_pca = pca.fit_transform(test_disp2)"
      ]
    },
    {
      "cell_type": "code",
      "execution_count": null,
      "metadata": {
        "id": "4K4VEsfNpHOe",
        "colab": {
          "base_uri": "https://localhost:8080/"
        },
        "outputId": "12b4f7a7-5923-43bd-bb37-a661e601d7a9"
      },
      "outputs": [
        {
          "output_type": "execute_result",
          "data": {
            "text/plain": [
              "(2948, 1500)"
            ]
          },
          "metadata": {},
          "execution_count": 86
        }
      ],
      "source": [
        "test_disp2_pca.shape"
      ]
    },
    {
      "cell_type": "code",
      "execution_count": null,
      "metadata": {
        "id": "vn_zeTBbbJHT",
        "colab": {
          "base_uri": "https://localhost:8080/"
        },
        "outputId": "c2766fea-5259-4a6d-f5c2-cdca34343295"
      },
      "outputs": [
        {
          "output_type": "stream",
          "name": "stdout",
          "text": [
            "[0 0 0 ... 0 0 0]\n"
          ]
        }
      ],
      "source": [
        "predictions, _ = vq(test_disp2_pca, centroids)\n",
        "\n",
        "# Print the resulting predictions\n",
        "print(predictions)"
      ]
    },
    {
      "cell_type": "code",
      "source": [
        "import numpy as np\n",
        "print(np.sum(predictions==1))\n",
        "print(np.sum(predictions==0))"
      ],
      "metadata": {
        "colab": {
          "base_uri": "https://localhost:8080/"
        },
        "id": "G32PosVEhmyE",
        "outputId": "b0671892-877e-4896-d01f-66661e926dab"
      },
      "execution_count": null,
      "outputs": [
        {
          "output_type": "stream",
          "name": "stdout",
          "text": [
            "161\n",
            "2787\n"
          ]
        }
      ]
    },
    {
      "cell_type": "code",
      "source": [
        "from sklearn.metrics.cluster import adjusted_mutual_info_score\n",
        "adjusted_mutual_info_score(test_data_y, predictions)\n"
      ],
      "metadata": {
        "id": "ogOyT2c7R0cJ",
        "colab": {
          "base_uri": "https://localhost:8080/"
        },
        "outputId": "ca3c49c8-64fe-4a5f-d0fb-ebf21677584f"
      },
      "execution_count": null,
      "outputs": [
        {
          "output_type": "execute_result",
          "data": {
            "text/plain": [
              "0.015933819224287497"
            ]
          },
          "metadata": {},
          "execution_count": 89
        }
      ]
    },
    {
      "cell_type": "code",
      "source": [
        "import math\n",
        "import matplotlib.pyplot as plt\n",
        "from sklearn.metrics import accuracy_score\n",
        "Y_disp=[]\n",
        "clust_size=[]\n",
        "score=[]\n",
        "acc=[]\n",
        "for thresh in range(10):\n",
        "    thresh=math.exp(-1*thresh)\n",
        "    centroids, distortion = kmeans(X_disp4_056, 2, thresh=thresh)\n",
        "    labels, _ = vq(X_disp4_056, centroids)\n",
        "    cluster_ids, cluster_sizes = np.unique(labels, return_counts=True)\n",
        "    Y_disp.append(labels)\n",
        "    clust_size.append(cluster_sizes)\n",
        "    predictions, _ = vq(test_disp2_pca, centroids)\n",
        "    score.append(adjusted_mutual_info_score(test_data_y, predictions))\n",
        "    acc.append(accuracy_score(test_data_y, predictions))\n",
        "fig, ax = plt.subplots()\n",
        "ax.bar([f\"exp(-{seed})\" for seed in range(10)], score)\n",
        "\n",
        "# add some labels and a title\n",
        "ax.set_xlabel('Threshold')\n",
        "ax.set_ylabel('Adjusted Mutual Info Score')\n",
        "ax.set_title('Bar Plot Example')\n",
        "\n",
        "# display the plot\n",
        "plt.show()\n",
        "fig, ax = plt.subplots()\n",
        "ax.bar([f\"exp(-{seed})\" for seed in range(10)], acc)\n",
        "\n",
        "# add some labels and a title\n",
        "ax.set_xlabel('Threshold')\n",
        "ax.set_ylabel('Accuracy')\n",
        "ax.set_title('Bar Plot Example')\n",
        "\n",
        "# display the plot\n",
        "plt.show()  "
      ],
      "metadata": {
        "colab": {
          "base_uri": "https://localhost:8080/"
        },
        "id": "a8SiD92rtSLr",
        "outputId": "ceb7d2f2-7d54-49ac-acf4-392a8b24a01f"
      },
      "execution_count": null,
      "outputs": [
        {
          "output_type": "display_data",
          "data": {
            "text/plain": [
              "<Figure size 640x480 with 1 Axes>"
            ],
            "image/png": "[encoded data removed]"
          },
          "metadata": {}
        },
        {
          "output_type": "display_data",
          "data": {
            "text/plain": [
              "<Figure size 640x480 with 1 Axes>"
            ],
            "image/png": "[encoded data removed]"
          },
          "metadata": {}
        }
      ]
    },
    {
      "cell_type": "code",
      "execution_count": null,
      "metadata": {
        "colab": {
          "base_uri": "https://localhost:8080/"
        },
        "id": "k4kxPuaExTRf",
        "outputId": "68aa928a-1aef-48d5-aa50-c00f24c2ff48"
      },
      "outputs": [
        {
          "output_type": "stream",
          "name": "stderr",
          "text": [
            "/usr/local/lib/python3.9/dist-packages/sklearn/manifold/_spectral_embedding.py:274: UserWarning: Graph is not fully connected, spectral embedding may not work as expected.\n",
            "  warnings.warn(\n"
          ]
        },
        {
          "output_type": "stream",
          "name": "stdout",
          "text": [
            "(array([0, 1]), array([9725,  160]))\n",
            "(array([0, 1]), array([9831,   54]))\n",
            "calinski_harabasz_score : 152.0313422790834\n",
            "silhouette_score : 0.6701828233754427\n",
            "davies_bouldin_score : 3.949600267946655\n",
            "calinski_harabasz_score : 14.483410676387717\n",
            "silhouette_score : -0.15268904539611777\n",
            "davies_bouldin_score : 1.7894698386563548\n"
          ]
        }
      ],
      "source": [
        "#@title Spectral Clustering\n",
        "from sklearn.cluster import OPTICS\n",
        "\n",
        "clustering = SpectralClustering(n_clusters=2,assign_labels='discretize',affinity='rbf',random_state=0).fit(X_disp4_056 )\n",
        "clustering2 = SpectralClustering(n_clusters=2,assign_labels='discretize',affinity='nearest_neighbors',random_state=0).fit(X_disp4_056)\n",
        "\n",
        "Y_111 = clustering.labels_\n",
        "Y_122 = clustering2.labels_\n",
        "\n",
        "\n",
        "print(np.unique(Y_111,return_counts= True))\n",
        "print(np.unique(Y_122,return_counts= True))\n",
        "\n",
        "print(f\"calinski_harabasz_score : {calinski_harabasz_score(X_disp4_056 ,Y_111)}\")\n",
        "print(f\"silhouette_score : {silhouette_score(X_disp4_056 ,Y_111)}\")\n",
        "print(f\"davies_bouldin_score : {davies_bouldin_score(X_disp4_056 ,Y_111)}\")\n",
        "\n",
        "print(f\"calinski_harabasz_score : {calinski_harabasz_score(X_disp4_056 ,Y_122)}\")\n",
        "print(f\"silhouette_score : {silhouette_score(X_disp4_056 ,Y_122)}\")\n",
        "print(f\"davies_bouldin_score : {davies_bouldin_score(X_disp4_056 ,Y_122)}\")       \n"
      ]
    },
    {
      "cell_type": "code",
      "source": [
        "\n",
        "\n",
        "counts1 = np.unique(Y_111, return_counts=True)[1]\n",
        "counts2 = np.unique(Y_122, return_counts=True)[1]\n",
        "\n",
        "fig, axs = plt.subplots(1, 2)\n",
        "axs[0].pie(counts1, labels=['Cluster 1', 'Cluster 2'])\n",
        "axs[0].set_title('Spectral Clustering RBF kernel')\n",
        "axs[1].pie(counts2, labels=['Cluster 1', 'Cluster 2'])\n",
        "axs[1].set_title(' Nearest Neighbors kernel')\n",
        "plt.show()"
      ],
      "metadata": {
        "colab": {
          "base_uri": "https://localhost:8080/"
        },
        "id": "dJcnlgrNRveV",
        "outputId": "86c1ce1b-1257-41f7-de9b-bba38a2252a7"
      },
      "execution_count": null,
      "outputs": [
        {
          "output_type": "display_data",
          "data": {
            "text/plain": [
              "<Figure size 640x480 with 2 Axes>"
            ],
            "image/png": "[encoded data removed]"
          },
          "metadata": {}
        }
      ]
    },
    {
      "cell_type": "code",
      "source": [
        "#@title Calinski harabasz score , Silhouette score , Davies bouldin score Table \n",
        "ch_score=[]\n",
        "sil_score=[]\n",
        "db_score=[]\n",
        "Y_seed = [Y_111,Y_122]\n",
        "\n",
        "for seed in Y_seed:\n",
        "    ch_score.append(calinski_harabasz_score(X_disp4_056 , seed))\n",
        "    sil_score.append(silhouette_score(X_disp4_056 , seed))\n",
        "    db_score.append(davies_bouldin_score(X_disp4_056 , seed))\n",
        "\n",
        "\n",
        "k_mean_dict={\"Random state\":[seed for seed in range(2)],\"Cluster sizes\":2, \"calinski_harabasz_score\":ch_score,\"silhouette_score\":sil_score,\"davies_bouldin_score\":db_score} \n",
        "pd.DataFrame(k_mean_dict)      "
      ],
      "metadata": {
        "colab": {
          "base_uri": "https://localhost:8080/"
        },
        "id": "ZkmSFnJCWASP",
        "outputId": "877dd701-52f7-48e8-a3fb-809bf22fbb01"
      },
      "execution_count": null,
      "outputs": [
        {
          "output_type": "execute_result",
          "data": {
            "text/plain": [
              "   Random state  Cluster sizes  calinski_harabasz_score  silhouette_score  \\\n",
              "0             0              2               152.031342          0.670183   \n",
              "1             1              2                14.483411         -0.152689   \n",
              "\n",
              "   davies_bouldin_score  \n",
              "0               3.94960  \n",
              "1               1.78947  "
            ],
            "text/html": [
              "\n",
              "  <div id=\"df-d5721422-8b44-4f85-9919-ad4c9ac693f9\">\n",
              "    <div class=\"colab-df-container\">\n",
              "      <div>\n",
              "<style scoped>\n",
              "    .dataframe tbody tr th:only-of-type {\n",
              "        vertical-align: middle;\n",
              "    }\n",
              "\n",
              "    .dataframe tbody tr th {\n",
              "        vertical-align: top;\n",
              "    }\n",
              "\n",
              "    .dataframe thead th {\n",
              "        text-align: right;\n",
              "    }\n",
              "</style>\n",
              "<table border=\"1\" class=\"dataframe\">\n",
              "  <thead>\n",
              "    <tr style=\"text-align: right;\">\n",
              "      <th></th>\n",
              "      <th>Random state</th>\n",
              "      <th>Cluster sizes</th>\n",
              "      <th>calinski_harabasz_score</th>\n",
              "      <th>silhouette_score</th>\n",
              "      <th>davies_bouldin_score</th>\n",
              "    </tr>\n",
              "  </thead>\n",
              "  <tbody>\n",
              "    <tr>\n",
              "      <th>0</th>\n",
              "      <td>0</td>\n",
              "      <td>2</td>\n",
              "      <td>152.031342</td>\n",
              "      <td>0.670183</td>\n",
              "      <td>3.94960</td>\n",
              "    </tr>\n",
              "    <tr>\n",
              "      <th>1</th>\n",
              "      <td>1</td>\n",
              "      <td>2</td>\n",
              "      <td>14.483411</td>\n",
              "      <td>-0.152689</td>\n",
              "      <td>1.78947</td>\n",
              "    </tr>\n",
              "  </tbody>\n",
              "</table>\n",
              "</div>\n",
              "      <button class=\"colab-df-convert\" onclick=\"convertToInteractive('df-d5721422-8b44-4f85-9919-ad4c9ac693f9')\"\n",
              "              title=\"Convert this dataframe to an interactive table.\"\n",
              "              style=\"display:none;\">\n",
              "        \n",
              "  <svg xmlns=\"http://www.w3.org/2000/svg\" height=\"24px\"viewBox=\"0 0 24 24\"\n",
              "       width=\"24px\">\n",
              "    <path d=\"M0 0h24v24H0V0z\" fill=\"none\"/>\n",
              "    <path d=\"M18.56 5.44l.94 2.06.94-2.06 2.06-.94-2.06-.94-.94-2.06-.94 2.06-2.06.94zm-11 1L8.5 8.5l.94-2.06 2.06-.94-2.06-.94L8.5 2.5l-.94 2.06-2.06.94zm10 10l.94 2.06.94-2.06 2.06-.94-2.06-.94-.94-2.06-.94 2.06-2.06.94z\"/><path d=\"M17.41 7.96l-1.37-1.37c-.4-.4-.92-.59-1.43-.59-.52 0-1.04.2-1.43.59L10.3 9.45l-7.72 7.72c-.78.78-.78 2.05 0 2.83L4 21.41c.39.39.9.59 1.41.59.51 0 1.02-.2 1.41-.59l7.78-7.78 2.81-2.81c.8-.78.8-2.07 0-2.86zM5.41 20L4 18.59l7.72-7.72 1.47 1.35L5.41 20z\"/>\n",
              "  </svg>\n",
              "      </button>\n",
              "      \n",
              "  <style>\n",
              "    .colab-df-container {\n",
              "      display:flex;\n",
              "      flex-wrap:wrap;\n",
              "      gap: 12px;\n",
              "    }\n",
              "\n",
              "    .colab-df-convert {\n",
              "      background-color: #E8F0FE;\n",
              "      border: none;\n",
              "      border-radius: 50%;\n",
              "      cursor: pointer;\n",
              "      display: none;\n",
              "      fill: #1967D2;\n",
              "      height: 32px;\n",
              "      padding: 0 0 0 0;\n",
              "      width: 32px;\n",
              "    }\n",
              "\n",
              "    .colab-df-convert:hover {\n",
              "      background-color: #E2EBFA;\n",
              "      box-shadow: 0px 1px 2px rgba(60, 64, 67, 0.3), 0px 1px 3px 1px rgba(60, 64, 67, 0.15);\n",
              "      fill: #174EA6;\n",
              "    }\n",
              "\n",
              "    [theme=dark] .colab-df-convert {\n",
              "      background-color: #3B4455;\n",
              "      fill: #D2E3FC;\n",
              "    }\n",
              "\n",
              "    [theme=dark] .colab-df-convert:hover {\n",
              "      background-color: #434B5C;\n",
              "      box-shadow: 0px 1px 3px 1px rgba(0, 0, 0, 0.15);\n",
              "      filter: drop-shadow(0px 1px 2px rgba(0, 0, 0, 0.3));\n",
              "      fill: #FFFFFF;\n",
              "    }\n",
              "  </style>\n",
              "\n",
              "      <script>\n",
              "        const buttonEl =\n",
              "          document.querySelector('#df-d5721422-8b44-4f85-9919-ad4c9ac693f9 button.colab-df-convert');\n",
              "        buttonEl.style.display =\n",
              "          google.colab.kernel.accessAllowed ? 'block' : 'none';\n",
              "\n",
              "        async function convertToInteractive(key) {\n",
              "          const element = document.querySelector('#df-d5721422-8b44-4f85-9919-ad4c9ac693f9');\n",
              "          const dataTable =\n",
              "            await google.colab.kernel.invokeFunction('convertToInteractive',\n",
              "                                                     [key], {});\n",
              "          if (!dataTable) return;\n",
              "\n",
              "          const docLinkHtml = 'Like what you see? Visit the ' +\n",
              "            '<a target=\"_blank\" href=https://colab.research.google.com/notebooks/data_table.ipynb>data table notebook</a>'\n",
              "            + ' to learn more about interactive tables.';\n",
              "          element.innerHTML = '';\n",
              "          dataTable['output_type'] = 'display_data';\n",
              "          await google.colab.output.renderOutput(dataTable, element);\n",
              "          const docLink = document.createElement('div');\n",
              "          docLink.innerHTML = docLinkHtml;\n",
              "          element.appendChild(docLink);\n",
              "        }\n",
              "      </script>\n",
              "    </div>\n",
              "  </div>\n",
              "  "
            ]
          },
          "metadata": {},
          "execution_count": 93
        }
      ]
    },
    {
      "cell_type": "code",
      "source": [
        "#@title  Visualization of Clusters\n",
        "import matplotlib.pyplot as plt\n",
        "\n",
        "# visualize clusters\n",
        "plt.scatter(np.asarray(X_disp4_056)[:, 0], np.asarray(X_disp4_056 )[:, 1], c=Y_111)\n",
        "plt.title(\"Spectral Clustering with RBF kernel\")\n",
        "plt.show()\n",
        "\n",
        "plt.scatter(np.asarray(X_disp4_056 )[:, 0], np.asarray(X_disp4_056 )[:, 1], c=Y_122)\n",
        "plt.title(\"Spectral Clustering with Nearest Neighbors kernel\")\n",
        "plt.show()\n"
      ],
      "metadata": {
        "colab": {
          "base_uri": "https://localhost:8080/"
        },
        "id": "EyNN8sgmJw18",
        "outputId": "d2bc53c3-7575-4a2f-d46c-58e4b4ab9674"
      },
      "execution_count": null,
      "outputs": [
        {
          "output_type": "display_data",
          "data": {
            "text/plain": [
              "<Figure size 640x480 with 1 Axes>"
            ],
            "image/png": "[encoded data removed]"
          },
          "metadata": {}
        },
        {
          "output_type": "display_data",
          "data": {
            "text/plain": [
              "<Figure size 640x480 with 1 Axes>"
            ],
            "image/png": "[encoded data removed]"
          },
          "metadata": {}
        }
      ]
    }
  ]
}